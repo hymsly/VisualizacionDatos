{
 "cells": [
  {
   "cell_type": "code",
   "execution_count": 1,
   "metadata": {},
   "outputs": [],
   "source": [
    "import numpy as np\n",
    "import pandas as pd\n",
    "\n",
    "from os.path import join\n",
    "ruta = 'C:\\Diplomado_IA_PUCP\\Visualizacion_de_datos\\proyecto'"
   ]
  },
  {
   "cell_type": "code",
   "execution_count": 16,
   "metadata": {},
   "outputs": [
    {
     "data": {
      "text/html": [
       "<div>\n",
       "<style scoped>\n",
       "    .dataframe tbody tr th:only-of-type {\n",
       "        vertical-align: middle;\n",
       "    }\n",
       "\n",
       "    .dataframe tbody tr th {\n",
       "        vertical-align: top;\n",
       "    }\n",
       "\n",
       "    .dataframe thead th {\n",
       "        text-align: right;\n",
       "    }\n",
       "</style>\n",
       "<table border=\"1\" class=\"dataframe\">\n",
       "  <thead>\n",
       "    <tr style=\"text-align: right;\">\n",
       "      <th></th>\n",
       "      <th>ï»¿FECHA_CORTE</th>\n",
       "      <th>UUID</th>\n",
       "      <th>GRUPO_RIESGO</th>\n",
       "      <th>EDAD</th>\n",
       "      <th>SEXO</th>\n",
       "      <th>FECHA_VACUNACION</th>\n",
       "      <th>DOSIS</th>\n",
       "      <th>FABRICANTE</th>\n",
       "      <th>DIRESA</th>\n",
       "      <th>DEPARTAMENTO</th>\n",
       "      <th>PROVINCIA</th>\n",
       "      <th>DISTRITO</th>\n",
       "    </tr>\n",
       "  </thead>\n",
       "  <tbody>\n",
       "    <tr>\n",
       "      <th>0</th>\n",
       "      <td>20210521</td>\n",
       "      <td>04cd9264959046894f4235d5c8b62794</td>\n",
       "      <td>PERSONAL DE SALUD</td>\n",
       "      <td>NaN</td>\n",
       "      <td>MASCULINO</td>\n",
       "      <td>20210222</td>\n",
       "      <td>1</td>\n",
       "      <td>SINOPHARM</td>\n",
       "      <td>LIMA CENTRO</td>\n",
       "      <td>LIMA</td>\n",
       "      <td>LIMA</td>\n",
       "      <td>LA VICTORIA</td>\n",
       "    </tr>\n",
       "    <tr>\n",
       "      <th>1</th>\n",
       "      <td>20210521</td>\n",
       "      <td>14fd8ec748ba82a72a4c5556ee8e6372</td>\n",
       "      <td>PERSONAL DE SALUD</td>\n",
       "      <td>NaN</td>\n",
       "      <td>MASCULINO</td>\n",
       "      <td>20210310</td>\n",
       "      <td>1</td>\n",
       "      <td>SINOPHARM</td>\n",
       "      <td>LA LIBERTAD</td>\n",
       "      <td>LA LIBERTAD</td>\n",
       "      <td>TRUJILLO</td>\n",
       "      <td>VICTOR LARCO HERRERA</td>\n",
       "    </tr>\n",
       "    <tr>\n",
       "      <th>2</th>\n",
       "      <td>20210521</td>\n",
       "      <td>b17ceddbbde5df1c082e09dc076421fb</td>\n",
       "      <td>PERSONAL DE SALUD</td>\n",
       "      <td>NaN</td>\n",
       "      <td>MASCULINO</td>\n",
       "      <td>20210227</td>\n",
       "      <td>1</td>\n",
       "      <td>SINOPHARM</td>\n",
       "      <td>HUANUCO</td>\n",
       "      <td>HUANUCO</td>\n",
       "      <td>LEONCIO PRADO</td>\n",
       "      <td>RUPA-RUPA</td>\n",
       "    </tr>\n",
       "    <tr>\n",
       "      <th>3</th>\n",
       "      <td>20210521</td>\n",
       "      <td>e5e67a589a53167d365e3de4373c419d</td>\n",
       "      <td>ADULTO MAYOR</td>\n",
       "      <td>NaN</td>\n",
       "      <td>FEMENINO</td>\n",
       "      <td>20210417</td>\n",
       "      <td>1</td>\n",
       "      <td>PFIZER</td>\n",
       "      <td>LIMA SUR</td>\n",
       "      <td>LIMA</td>\n",
       "      <td>LIMA</td>\n",
       "      <td>CHORRILLOS</td>\n",
       "    </tr>\n",
       "    <tr>\n",
       "      <th>4</th>\n",
       "      <td>20210521</td>\n",
       "      <td>103ae79bc8e63d82e78c754ae5c78e75</td>\n",
       "      <td>ADULTO MAYOR</td>\n",
       "      <td>81.0</td>\n",
       "      <td>FEMENINO</td>\n",
       "      <td>20210422</td>\n",
       "      <td>1</td>\n",
       "      <td>ASTRAZENECA</td>\n",
       "      <td>UCAYALI</td>\n",
       "      <td>UCAYALI</td>\n",
       "      <td>CORONEL PORTILLO</td>\n",
       "      <td>CALLERIA</td>\n",
       "    </tr>\n",
       "    <tr>\n",
       "      <th>...</th>\n",
       "      <td>...</td>\n",
       "      <td>...</td>\n",
       "      <td>...</td>\n",
       "      <td>...</td>\n",
       "      <td>...</td>\n",
       "      <td>...</td>\n",
       "      <td>...</td>\n",
       "      <td>...</td>\n",
       "      <td>...</td>\n",
       "      <td>...</td>\n",
       "      <td>...</td>\n",
       "      <td>...</td>\n",
       "    </tr>\n",
       "    <tr>\n",
       "      <th>3020172</th>\n",
       "      <td>20210521</td>\n",
       "      <td>b4ee21f5c2f78bb163e4e645ab1b6373</td>\n",
       "      <td>PERSONAL DE SALUD</td>\n",
       "      <td>31.0</td>\n",
       "      <td>MASCULINO</td>\n",
       "      <td>20210225</td>\n",
       "      <td>1</td>\n",
       "      <td>SINOPHARM</td>\n",
       "      <td>LIMA CENTRO</td>\n",
       "      <td>LIMA</td>\n",
       "      <td>LIMA</td>\n",
       "      <td>MAGDALENA DEL MAR</td>\n",
       "    </tr>\n",
       "    <tr>\n",
       "      <th>3020173</th>\n",
       "      <td>20210521</td>\n",
       "      <td>05f18908536fcbf526210efa198e1aa5</td>\n",
       "      <td>PERSONAL DE SALUD</td>\n",
       "      <td>30.0</td>\n",
       "      <td>FEMENINO</td>\n",
       "      <td>20210225</td>\n",
       "      <td>1</td>\n",
       "      <td>SINOPHARM</td>\n",
       "      <td>LIMA CENTRO</td>\n",
       "      <td>LIMA</td>\n",
       "      <td>LIMA</td>\n",
       "      <td>MAGDALENA DEL MAR</td>\n",
       "    </tr>\n",
       "    <tr>\n",
       "      <th>3020174</th>\n",
       "      <td>20210521</td>\n",
       "      <td>7e35f5777815eb8c474483c3270c6aa5</td>\n",
       "      <td>PERSONAL DE SALUD</td>\n",
       "      <td>22.0</td>\n",
       "      <td>MASCULINO</td>\n",
       "      <td>20210225</td>\n",
       "      <td>1</td>\n",
       "      <td>SINOPHARM</td>\n",
       "      <td>LIMA CENTRO</td>\n",
       "      <td>LIMA</td>\n",
       "      <td>LIMA</td>\n",
       "      <td>MAGDALENA DEL MAR</td>\n",
       "    </tr>\n",
       "    <tr>\n",
       "      <th>3020175</th>\n",
       "      <td>20210521</td>\n",
       "      <td>dad115c390dd0af157002a555e6013e4</td>\n",
       "      <td>PERSONAL DE SALUD</td>\n",
       "      <td>22.0</td>\n",
       "      <td>MASCULINO</td>\n",
       "      <td>20210225</td>\n",
       "      <td>1</td>\n",
       "      <td>SINOPHARM</td>\n",
       "      <td>LIMA CENTRO</td>\n",
       "      <td>LIMA</td>\n",
       "      <td>LIMA</td>\n",
       "      <td>MAGDALENA DEL MAR</td>\n",
       "    </tr>\n",
       "    <tr>\n",
       "      <th>3020176</th>\n",
       "      <td>20210521</td>\n",
       "      <td>05ea529a3aaa3d4e420b826bc3b5250c</td>\n",
       "      <td>ADULTO MAYOR</td>\n",
       "      <td>70.0</td>\n",
       "      <td>FEMENINO</td>\n",
       "      <td>20210429</td>\n",
       "      <td>1</td>\n",
       "      <td>ASTRAZENECA</td>\n",
       "      <td>HUANUCO</td>\n",
       "      <td>HUANUCO</td>\n",
       "      <td>HUAMALIES</td>\n",
       "      <td>LLATA</td>\n",
       "    </tr>\n",
       "  </tbody>\n",
       "</table>\n",
       "<p>3020177 rows × 12 columns</p>\n",
       "</div>"
      ],
      "text/plain": [
       "         ï»¿FECHA_CORTE                              UUID       GRUPO_RIESGO  \\\n",
       "0              20210521  04cd9264959046894f4235d5c8b62794  PERSONAL DE SALUD   \n",
       "1              20210521  14fd8ec748ba82a72a4c5556ee8e6372  PERSONAL DE SALUD   \n",
       "2              20210521  b17ceddbbde5df1c082e09dc076421fb  PERSONAL DE SALUD   \n",
       "3              20210521  e5e67a589a53167d365e3de4373c419d       ADULTO MAYOR   \n",
       "4              20210521  103ae79bc8e63d82e78c754ae5c78e75       ADULTO MAYOR   \n",
       "...                 ...                               ...                ...   \n",
       "3020172        20210521  b4ee21f5c2f78bb163e4e645ab1b6373  PERSONAL DE SALUD   \n",
       "3020173        20210521  05f18908536fcbf526210efa198e1aa5  PERSONAL DE SALUD   \n",
       "3020174        20210521  7e35f5777815eb8c474483c3270c6aa5  PERSONAL DE SALUD   \n",
       "3020175        20210521  dad115c390dd0af157002a555e6013e4  PERSONAL DE SALUD   \n",
       "3020176        20210521  05ea529a3aaa3d4e420b826bc3b5250c       ADULTO MAYOR   \n",
       "\n",
       "         EDAD       SEXO  FECHA_VACUNACION  DOSIS   FABRICANTE       DIRESA  \\\n",
       "0         NaN  MASCULINO          20210222      1    SINOPHARM  LIMA CENTRO   \n",
       "1         NaN  MASCULINO          20210310      1    SINOPHARM  LA LIBERTAD   \n",
       "2         NaN  MASCULINO          20210227      1    SINOPHARM      HUANUCO   \n",
       "3         NaN   FEMENINO          20210417      1       PFIZER     LIMA SUR   \n",
       "4        81.0   FEMENINO          20210422      1  ASTRAZENECA      UCAYALI   \n",
       "...       ...        ...               ...    ...          ...          ...   \n",
       "3020172  31.0  MASCULINO          20210225      1    SINOPHARM  LIMA CENTRO   \n",
       "3020173  30.0   FEMENINO          20210225      1    SINOPHARM  LIMA CENTRO   \n",
       "3020174  22.0  MASCULINO          20210225      1    SINOPHARM  LIMA CENTRO   \n",
       "3020175  22.0  MASCULINO          20210225      1    SINOPHARM  LIMA CENTRO   \n",
       "3020176  70.0   FEMENINO          20210429      1  ASTRAZENECA      HUANUCO   \n",
       "\n",
       "        DEPARTAMENTO         PROVINCIA              DISTRITO  \n",
       "0               LIMA              LIMA           LA VICTORIA  \n",
       "1        LA LIBERTAD          TRUJILLO  VICTOR LARCO HERRERA  \n",
       "2            HUANUCO     LEONCIO PRADO             RUPA-RUPA  \n",
       "3               LIMA              LIMA            CHORRILLOS  \n",
       "4            UCAYALI  CORONEL PORTILLO              CALLERIA  \n",
       "...              ...               ...                   ...  \n",
       "3020172         LIMA              LIMA     MAGDALENA DEL MAR  \n",
       "3020173         LIMA              LIMA     MAGDALENA DEL MAR  \n",
       "3020174         LIMA              LIMA     MAGDALENA DEL MAR  \n",
       "3020175         LIMA              LIMA     MAGDALENA DEL MAR  \n",
       "3020176      HUANUCO         HUAMALIES                 LLATA  \n",
       "\n",
       "[3020177 rows x 12 columns]"
      ]
     },
     "execution_count": 16,
     "metadata": {},
     "output_type": "execute_result"
    }
   ],
   "source": [
    "vacunas = pd.read_csv(join(ruta,'vacunas_covid.csv'),sep=',',encoding='latin1').rename({'ï»¿FECHA_CORTE':'FECHA_CORTE'})\n",
    "vacunas"
   ]
  },
  {
   "cell_type": "code",
   "execution_count": 17,
   "metadata": {},
   "outputs": [],
   "source": [
    "vacunas.drop(['ï»¿FECHA_CORTE'],axis=1,inplace=True)"
   ]
  },
  {
   "cell_type": "code",
   "execution_count": 25,
   "metadata": {},
   "outputs": [
    {
     "data": {
      "text/html": [
       "<div>\n",
       "<style scoped>\n",
       "    .dataframe tbody tr th:only-of-type {\n",
       "        vertical-align: middle;\n",
       "    }\n",
       "\n",
       "    .dataframe tbody tr th {\n",
       "        vertical-align: top;\n",
       "    }\n",
       "\n",
       "    .dataframe thead th {\n",
       "        text-align: right;\n",
       "    }\n",
       "</style>\n",
       "<table border=\"1\" class=\"dataframe\">\n",
       "  <thead>\n",
       "    <tr style=\"text-align: right;\">\n",
       "      <th></th>\n",
       "      <th>UUID</th>\n",
       "      <th>GRUPO_RIESGO</th>\n",
       "      <th>EDAD</th>\n",
       "      <th>SEXO</th>\n",
       "      <th>FECHA_VACUNACION</th>\n",
       "      <th>DOSIS</th>\n",
       "      <th>FABRICANTE</th>\n",
       "      <th>DIRESA</th>\n",
       "      <th>DEPARTAMENTO</th>\n",
       "      <th>PROVINCIA</th>\n",
       "      <th>DISTRITO</th>\n",
       "      <th>FECHA_VACUNACION_dt</th>\n",
       "    </tr>\n",
       "  </thead>\n",
       "  <tbody>\n",
       "    <tr>\n",
       "      <th>0</th>\n",
       "      <td>04cd9264959046894f4235d5c8b62794</td>\n",
       "      <td>PERSONAL DE SALUD</td>\n",
       "      <td>NaN</td>\n",
       "      <td>MASCULINO</td>\n",
       "      <td>20210222</td>\n",
       "      <td>1</td>\n",
       "      <td>SINOPHARM</td>\n",
       "      <td>LIMA CENTRO</td>\n",
       "      <td>LIMA</td>\n",
       "      <td>LIMA</td>\n",
       "      <td>LA VICTORIA</td>\n",
       "      <td>2021-02-22</td>\n",
       "    </tr>\n",
       "    <tr>\n",
       "      <th>1</th>\n",
       "      <td>14fd8ec748ba82a72a4c5556ee8e6372</td>\n",
       "      <td>PERSONAL DE SALUD</td>\n",
       "      <td>NaN</td>\n",
       "      <td>MASCULINO</td>\n",
       "      <td>20210310</td>\n",
       "      <td>1</td>\n",
       "      <td>SINOPHARM</td>\n",
       "      <td>LA LIBERTAD</td>\n",
       "      <td>LA LIBERTAD</td>\n",
       "      <td>TRUJILLO</td>\n",
       "      <td>VICTOR LARCO HERRERA</td>\n",
       "      <td>2021-03-10</td>\n",
       "    </tr>\n",
       "    <tr>\n",
       "      <th>2</th>\n",
       "      <td>b17ceddbbde5df1c082e09dc076421fb</td>\n",
       "      <td>PERSONAL DE SALUD</td>\n",
       "      <td>NaN</td>\n",
       "      <td>MASCULINO</td>\n",
       "      <td>20210227</td>\n",
       "      <td>1</td>\n",
       "      <td>SINOPHARM</td>\n",
       "      <td>HUANUCO</td>\n",
       "      <td>HUANUCO</td>\n",
       "      <td>LEONCIO PRADO</td>\n",
       "      <td>RUPA-RUPA</td>\n",
       "      <td>2021-02-27</td>\n",
       "    </tr>\n",
       "    <tr>\n",
       "      <th>3</th>\n",
       "      <td>e5e67a589a53167d365e3de4373c419d</td>\n",
       "      <td>ADULTO MAYOR</td>\n",
       "      <td>NaN</td>\n",
       "      <td>FEMENINO</td>\n",
       "      <td>20210417</td>\n",
       "      <td>1</td>\n",
       "      <td>PFIZER</td>\n",
       "      <td>LIMA SUR</td>\n",
       "      <td>LIMA</td>\n",
       "      <td>LIMA</td>\n",
       "      <td>CHORRILLOS</td>\n",
       "      <td>2021-04-17</td>\n",
       "    </tr>\n",
       "    <tr>\n",
       "      <th>4</th>\n",
       "      <td>103ae79bc8e63d82e78c754ae5c78e75</td>\n",
       "      <td>ADULTO MAYOR</td>\n",
       "      <td>81.0</td>\n",
       "      <td>FEMENINO</td>\n",
       "      <td>20210422</td>\n",
       "      <td>1</td>\n",
       "      <td>ASTRAZENECA</td>\n",
       "      <td>UCAYALI</td>\n",
       "      <td>UCAYALI</td>\n",
       "      <td>CORONEL PORTILLO</td>\n",
       "      <td>CALLERIA</td>\n",
       "      <td>2021-04-22</td>\n",
       "    </tr>\n",
       "    <tr>\n",
       "      <th>...</th>\n",
       "      <td>...</td>\n",
       "      <td>...</td>\n",
       "      <td>...</td>\n",
       "      <td>...</td>\n",
       "      <td>...</td>\n",
       "      <td>...</td>\n",
       "      <td>...</td>\n",
       "      <td>...</td>\n",
       "      <td>...</td>\n",
       "      <td>...</td>\n",
       "      <td>...</td>\n",
       "      <td>...</td>\n",
       "    </tr>\n",
       "    <tr>\n",
       "      <th>3020172</th>\n",
       "      <td>b4ee21f5c2f78bb163e4e645ab1b6373</td>\n",
       "      <td>PERSONAL DE SALUD</td>\n",
       "      <td>31.0</td>\n",
       "      <td>MASCULINO</td>\n",
       "      <td>20210225</td>\n",
       "      <td>1</td>\n",
       "      <td>SINOPHARM</td>\n",
       "      <td>LIMA CENTRO</td>\n",
       "      <td>LIMA</td>\n",
       "      <td>LIMA</td>\n",
       "      <td>MAGDALENA DEL MAR</td>\n",
       "      <td>2021-02-25</td>\n",
       "    </tr>\n",
       "    <tr>\n",
       "      <th>3020173</th>\n",
       "      <td>05f18908536fcbf526210efa198e1aa5</td>\n",
       "      <td>PERSONAL DE SALUD</td>\n",
       "      <td>30.0</td>\n",
       "      <td>FEMENINO</td>\n",
       "      <td>20210225</td>\n",
       "      <td>1</td>\n",
       "      <td>SINOPHARM</td>\n",
       "      <td>LIMA CENTRO</td>\n",
       "      <td>LIMA</td>\n",
       "      <td>LIMA</td>\n",
       "      <td>MAGDALENA DEL MAR</td>\n",
       "      <td>2021-02-25</td>\n",
       "    </tr>\n",
       "    <tr>\n",
       "      <th>3020174</th>\n",
       "      <td>7e35f5777815eb8c474483c3270c6aa5</td>\n",
       "      <td>PERSONAL DE SALUD</td>\n",
       "      <td>22.0</td>\n",
       "      <td>MASCULINO</td>\n",
       "      <td>20210225</td>\n",
       "      <td>1</td>\n",
       "      <td>SINOPHARM</td>\n",
       "      <td>LIMA CENTRO</td>\n",
       "      <td>LIMA</td>\n",
       "      <td>LIMA</td>\n",
       "      <td>MAGDALENA DEL MAR</td>\n",
       "      <td>2021-02-25</td>\n",
       "    </tr>\n",
       "    <tr>\n",
       "      <th>3020175</th>\n",
       "      <td>dad115c390dd0af157002a555e6013e4</td>\n",
       "      <td>PERSONAL DE SALUD</td>\n",
       "      <td>22.0</td>\n",
       "      <td>MASCULINO</td>\n",
       "      <td>20210225</td>\n",
       "      <td>1</td>\n",
       "      <td>SINOPHARM</td>\n",
       "      <td>LIMA CENTRO</td>\n",
       "      <td>LIMA</td>\n",
       "      <td>LIMA</td>\n",
       "      <td>MAGDALENA DEL MAR</td>\n",
       "      <td>2021-02-25</td>\n",
       "    </tr>\n",
       "    <tr>\n",
       "      <th>3020176</th>\n",
       "      <td>05ea529a3aaa3d4e420b826bc3b5250c</td>\n",
       "      <td>ADULTO MAYOR</td>\n",
       "      <td>70.0</td>\n",
       "      <td>FEMENINO</td>\n",
       "      <td>20210429</td>\n",
       "      <td>1</td>\n",
       "      <td>ASTRAZENECA</td>\n",
       "      <td>HUANUCO</td>\n",
       "      <td>HUANUCO</td>\n",
       "      <td>HUAMALIES</td>\n",
       "      <td>LLATA</td>\n",
       "      <td>2021-04-29</td>\n",
       "    </tr>\n",
       "  </tbody>\n",
       "</table>\n",
       "<p>3020177 rows × 12 columns</p>\n",
       "</div>"
      ],
      "text/plain": [
       "                                     UUID       GRUPO_RIESGO  EDAD       SEXO  \\\n",
       "0        04cd9264959046894f4235d5c8b62794  PERSONAL DE SALUD   NaN  MASCULINO   \n",
       "1        14fd8ec748ba82a72a4c5556ee8e6372  PERSONAL DE SALUD   NaN  MASCULINO   \n",
       "2        b17ceddbbde5df1c082e09dc076421fb  PERSONAL DE SALUD   NaN  MASCULINO   \n",
       "3        e5e67a589a53167d365e3de4373c419d       ADULTO MAYOR   NaN   FEMENINO   \n",
       "4        103ae79bc8e63d82e78c754ae5c78e75       ADULTO MAYOR  81.0   FEMENINO   \n",
       "...                                   ...                ...   ...        ...   \n",
       "3020172  b4ee21f5c2f78bb163e4e645ab1b6373  PERSONAL DE SALUD  31.0  MASCULINO   \n",
       "3020173  05f18908536fcbf526210efa198e1aa5  PERSONAL DE SALUD  30.0   FEMENINO   \n",
       "3020174  7e35f5777815eb8c474483c3270c6aa5  PERSONAL DE SALUD  22.0  MASCULINO   \n",
       "3020175  dad115c390dd0af157002a555e6013e4  PERSONAL DE SALUD  22.0  MASCULINO   \n",
       "3020176  05ea529a3aaa3d4e420b826bc3b5250c       ADULTO MAYOR  70.0   FEMENINO   \n",
       "\n",
       "         FECHA_VACUNACION  DOSIS   FABRICANTE       DIRESA DEPARTAMENTO  \\\n",
       "0                20210222      1    SINOPHARM  LIMA CENTRO         LIMA   \n",
       "1                20210310      1    SINOPHARM  LA LIBERTAD  LA LIBERTAD   \n",
       "2                20210227      1    SINOPHARM      HUANUCO      HUANUCO   \n",
       "3                20210417      1       PFIZER     LIMA SUR         LIMA   \n",
       "4                20210422      1  ASTRAZENECA      UCAYALI      UCAYALI   \n",
       "...                   ...    ...          ...          ...          ...   \n",
       "3020172          20210225      1    SINOPHARM  LIMA CENTRO         LIMA   \n",
       "3020173          20210225      1    SINOPHARM  LIMA CENTRO         LIMA   \n",
       "3020174          20210225      1    SINOPHARM  LIMA CENTRO         LIMA   \n",
       "3020175          20210225      1    SINOPHARM  LIMA CENTRO         LIMA   \n",
       "3020176          20210429      1  ASTRAZENECA      HUANUCO      HUANUCO   \n",
       "\n",
       "                PROVINCIA              DISTRITO FECHA_VACUNACION_dt  \n",
       "0                    LIMA           LA VICTORIA          2021-02-22  \n",
       "1                TRUJILLO  VICTOR LARCO HERRERA          2021-03-10  \n",
       "2           LEONCIO PRADO             RUPA-RUPA          2021-02-27  \n",
       "3                    LIMA            CHORRILLOS          2021-04-17  \n",
       "4        CORONEL PORTILLO              CALLERIA          2021-04-22  \n",
       "...                   ...                   ...                 ...  \n",
       "3020172              LIMA     MAGDALENA DEL MAR          2021-02-25  \n",
       "3020173              LIMA     MAGDALENA DEL MAR          2021-02-25  \n",
       "3020174              LIMA     MAGDALENA DEL MAR          2021-02-25  \n",
       "3020175              LIMA     MAGDALENA DEL MAR          2021-02-25  \n",
       "3020176         HUAMALIES                 LLATA          2021-04-29  \n",
       "\n",
       "[3020177 rows x 12 columns]"
      ]
     },
     "execution_count": 25,
     "metadata": {},
     "output_type": "execute_result"
    }
   ],
   "source": [
    "vacunas['FECHA_VACUNACION_dt'] = pd.to_datetime(vacunas['FECHA_VACUNACION'], format='%Y%m%d')\n",
    "vacunas"
   ]
  },
  {
   "cell_type": "code",
   "execution_count": 29,
   "metadata": {},
   "outputs": [
    {
     "data": {
      "text/html": [
       "<div>\n",
       "<style scoped>\n",
       "    .dataframe tbody tr th:only-of-type {\n",
       "        vertical-align: middle;\n",
       "    }\n",
       "\n",
       "    .dataframe tbody tr th {\n",
       "        vertical-align: top;\n",
       "    }\n",
       "\n",
       "    .dataframe thead th {\n",
       "        text-align: right;\n",
       "    }\n",
       "</style>\n",
       "<table border=\"1\" class=\"dataframe\">\n",
       "  <thead>\n",
       "    <tr style=\"text-align: right;\">\n",
       "      <th></th>\n",
       "      <th>UUID</th>\n",
       "      <th>GRUPO_RIESGO</th>\n",
       "      <th>EDAD</th>\n",
       "      <th>SEXO</th>\n",
       "      <th>FECHA_VACUNACION</th>\n",
       "      <th>DOSIS</th>\n",
       "      <th>FABRICANTE</th>\n",
       "      <th>DIRESA</th>\n",
       "      <th>DEPARTAMENTO</th>\n",
       "      <th>PROVINCIA</th>\n",
       "      <th>DISTRITO</th>\n",
       "      <th>FECHA_VACUNACION_dt</th>\n",
       "    </tr>\n",
       "  </thead>\n",
       "  <tbody>\n",
       "    <tr>\n",
       "      <th>0</th>\n",
       "      <td>04cd9264959046894f4235d5c8b62794</td>\n",
       "      <td>PERSONAL DE SALUD</td>\n",
       "      <td>NaN</td>\n",
       "      <td>MASCULINO</td>\n",
       "      <td>20210222</td>\n",
       "      <td>1</td>\n",
       "      <td>SINOPHARM</td>\n",
       "      <td>LIMA CENTRO</td>\n",
       "      <td>LIMA</td>\n",
       "      <td>LIMA</td>\n",
       "      <td>LA VICTORIA</td>\n",
       "      <td>2021-02-22</td>\n",
       "    </tr>\n",
       "    <tr>\n",
       "      <th>1</th>\n",
       "      <td>14fd8ec748ba82a72a4c5556ee8e6372</td>\n",
       "      <td>PERSONAL DE SALUD</td>\n",
       "      <td>NaN</td>\n",
       "      <td>MASCULINO</td>\n",
       "      <td>20210310</td>\n",
       "      <td>1</td>\n",
       "      <td>SINOPHARM</td>\n",
       "      <td>LA LIBERTAD</td>\n",
       "      <td>LA LIBERTAD</td>\n",
       "      <td>TRUJILLO</td>\n",
       "      <td>VICTOR LARCO HERRERA</td>\n",
       "      <td>2021-03-10</td>\n",
       "    </tr>\n",
       "    <tr>\n",
       "      <th>2</th>\n",
       "      <td>b17ceddbbde5df1c082e09dc076421fb</td>\n",
       "      <td>PERSONAL DE SALUD</td>\n",
       "      <td>NaN</td>\n",
       "      <td>MASCULINO</td>\n",
       "      <td>20210227</td>\n",
       "      <td>1</td>\n",
       "      <td>SINOPHARM</td>\n",
       "      <td>HUANUCO</td>\n",
       "      <td>HUANUCO</td>\n",
       "      <td>LEONCIO PRADO</td>\n",
       "      <td>RUPA-RUPA</td>\n",
       "      <td>2021-02-27</td>\n",
       "    </tr>\n",
       "    <tr>\n",
       "      <th>3</th>\n",
       "      <td>e5e67a589a53167d365e3de4373c419d</td>\n",
       "      <td>ADULTO MAYOR</td>\n",
       "      <td>NaN</td>\n",
       "      <td>FEMENINO</td>\n",
       "      <td>20210417</td>\n",
       "      <td>1</td>\n",
       "      <td>PFIZER</td>\n",
       "      <td>LIMA SUR</td>\n",
       "      <td>LIMA</td>\n",
       "      <td>LIMA</td>\n",
       "      <td>CHORRILLOS</td>\n",
       "      <td>2021-04-17</td>\n",
       "    </tr>\n",
       "    <tr>\n",
       "      <th>4</th>\n",
       "      <td>103ae79bc8e63d82e78c754ae5c78e75</td>\n",
       "      <td>ADULTO MAYOR</td>\n",
       "      <td>81.0</td>\n",
       "      <td>FEMENINO</td>\n",
       "      <td>20210422</td>\n",
       "      <td>1</td>\n",
       "      <td>ASTRAZENECA</td>\n",
       "      <td>UCAYALI</td>\n",
       "      <td>UCAYALI</td>\n",
       "      <td>CORONEL PORTILLO</td>\n",
       "      <td>CALLERIA</td>\n",
       "      <td>2021-04-22</td>\n",
       "    </tr>\n",
       "    <tr>\n",
       "      <th>...</th>\n",
       "      <td>...</td>\n",
       "      <td>...</td>\n",
       "      <td>...</td>\n",
       "      <td>...</td>\n",
       "      <td>...</td>\n",
       "      <td>...</td>\n",
       "      <td>...</td>\n",
       "      <td>...</td>\n",
       "      <td>...</td>\n",
       "      <td>...</td>\n",
       "      <td>...</td>\n",
       "      <td>...</td>\n",
       "    </tr>\n",
       "    <tr>\n",
       "      <th>3020172</th>\n",
       "      <td>b4ee21f5c2f78bb163e4e645ab1b6373</td>\n",
       "      <td>PERSONAL DE SALUD</td>\n",
       "      <td>31.0</td>\n",
       "      <td>MASCULINO</td>\n",
       "      <td>20210225</td>\n",
       "      <td>1</td>\n",
       "      <td>SINOPHARM</td>\n",
       "      <td>LIMA CENTRO</td>\n",
       "      <td>LIMA</td>\n",
       "      <td>LIMA</td>\n",
       "      <td>MAGDALENA DEL MAR</td>\n",
       "      <td>2021-02-25</td>\n",
       "    </tr>\n",
       "    <tr>\n",
       "      <th>3020173</th>\n",
       "      <td>05f18908536fcbf526210efa198e1aa5</td>\n",
       "      <td>PERSONAL DE SALUD</td>\n",
       "      <td>30.0</td>\n",
       "      <td>FEMENINO</td>\n",
       "      <td>20210225</td>\n",
       "      <td>1</td>\n",
       "      <td>SINOPHARM</td>\n",
       "      <td>LIMA CENTRO</td>\n",
       "      <td>LIMA</td>\n",
       "      <td>LIMA</td>\n",
       "      <td>MAGDALENA DEL MAR</td>\n",
       "      <td>2021-02-25</td>\n",
       "    </tr>\n",
       "    <tr>\n",
       "      <th>3020174</th>\n",
       "      <td>7e35f5777815eb8c474483c3270c6aa5</td>\n",
       "      <td>PERSONAL DE SALUD</td>\n",
       "      <td>22.0</td>\n",
       "      <td>MASCULINO</td>\n",
       "      <td>20210225</td>\n",
       "      <td>1</td>\n",
       "      <td>SINOPHARM</td>\n",
       "      <td>LIMA CENTRO</td>\n",
       "      <td>LIMA</td>\n",
       "      <td>LIMA</td>\n",
       "      <td>MAGDALENA DEL MAR</td>\n",
       "      <td>2021-02-25</td>\n",
       "    </tr>\n",
       "    <tr>\n",
       "      <th>3020175</th>\n",
       "      <td>dad115c390dd0af157002a555e6013e4</td>\n",
       "      <td>PERSONAL DE SALUD</td>\n",
       "      <td>22.0</td>\n",
       "      <td>MASCULINO</td>\n",
       "      <td>20210225</td>\n",
       "      <td>1</td>\n",
       "      <td>SINOPHARM</td>\n",
       "      <td>LIMA CENTRO</td>\n",
       "      <td>LIMA</td>\n",
       "      <td>LIMA</td>\n",
       "      <td>MAGDALENA DEL MAR</td>\n",
       "      <td>2021-02-25</td>\n",
       "    </tr>\n",
       "    <tr>\n",
       "      <th>3020176</th>\n",
       "      <td>05ea529a3aaa3d4e420b826bc3b5250c</td>\n",
       "      <td>ADULTO MAYOR</td>\n",
       "      <td>70.0</td>\n",
       "      <td>FEMENINO</td>\n",
       "      <td>20210429</td>\n",
       "      <td>1</td>\n",
       "      <td>ASTRAZENECA</td>\n",
       "      <td>HUANUCO</td>\n",
       "      <td>HUANUCO</td>\n",
       "      <td>HUAMALIES</td>\n",
       "      <td>LLATA</td>\n",
       "      <td>2021-04-29</td>\n",
       "    </tr>\n",
       "  </tbody>\n",
       "</table>\n",
       "<p>3020177 rows × 12 columns</p>\n",
       "</div>"
      ],
      "text/plain": [
       "                                     UUID       GRUPO_RIESGO  EDAD       SEXO  \\\n",
       "0        04cd9264959046894f4235d5c8b62794  PERSONAL DE SALUD   NaN  MASCULINO   \n",
       "1        14fd8ec748ba82a72a4c5556ee8e6372  PERSONAL DE SALUD   NaN  MASCULINO   \n",
       "2        b17ceddbbde5df1c082e09dc076421fb  PERSONAL DE SALUD   NaN  MASCULINO   \n",
       "3        e5e67a589a53167d365e3de4373c419d       ADULTO MAYOR   NaN   FEMENINO   \n",
       "4        103ae79bc8e63d82e78c754ae5c78e75       ADULTO MAYOR  81.0   FEMENINO   \n",
       "...                                   ...                ...   ...        ...   \n",
       "3020172  b4ee21f5c2f78bb163e4e645ab1b6373  PERSONAL DE SALUD  31.0  MASCULINO   \n",
       "3020173  05f18908536fcbf526210efa198e1aa5  PERSONAL DE SALUD  30.0   FEMENINO   \n",
       "3020174  7e35f5777815eb8c474483c3270c6aa5  PERSONAL DE SALUD  22.0  MASCULINO   \n",
       "3020175  dad115c390dd0af157002a555e6013e4  PERSONAL DE SALUD  22.0  MASCULINO   \n",
       "3020176  05ea529a3aaa3d4e420b826bc3b5250c       ADULTO MAYOR  70.0   FEMENINO   \n",
       "\n",
       "         FECHA_VACUNACION DOSIS   FABRICANTE       DIRESA DEPARTAMENTO  \\\n",
       "0                20210222     1    SINOPHARM  LIMA CENTRO         LIMA   \n",
       "1                20210310     1    SINOPHARM  LA LIBERTAD  LA LIBERTAD   \n",
       "2                20210227     1    SINOPHARM      HUANUCO      HUANUCO   \n",
       "3                20210417     1       PFIZER     LIMA SUR         LIMA   \n",
       "4                20210422     1  ASTRAZENECA      UCAYALI      UCAYALI   \n",
       "...                   ...   ...          ...          ...          ...   \n",
       "3020172          20210225     1    SINOPHARM  LIMA CENTRO         LIMA   \n",
       "3020173          20210225     1    SINOPHARM  LIMA CENTRO         LIMA   \n",
       "3020174          20210225     1    SINOPHARM  LIMA CENTRO         LIMA   \n",
       "3020175          20210225     1    SINOPHARM  LIMA CENTRO         LIMA   \n",
       "3020176          20210429     1  ASTRAZENECA      HUANUCO      HUANUCO   \n",
       "\n",
       "                PROVINCIA              DISTRITO FECHA_VACUNACION_dt  \n",
       "0                    LIMA           LA VICTORIA          2021-02-22  \n",
       "1                TRUJILLO  VICTOR LARCO HERRERA          2021-03-10  \n",
       "2           LEONCIO PRADO             RUPA-RUPA          2021-02-27  \n",
       "3                    LIMA            CHORRILLOS          2021-04-17  \n",
       "4        CORONEL PORTILLO              CALLERIA          2021-04-22  \n",
       "...                   ...                   ...                 ...  \n",
       "3020172              LIMA     MAGDALENA DEL MAR          2021-02-25  \n",
       "3020173              LIMA     MAGDALENA DEL MAR          2021-02-25  \n",
       "3020174              LIMA     MAGDALENA DEL MAR          2021-02-25  \n",
       "3020175              LIMA     MAGDALENA DEL MAR          2021-02-25  \n",
       "3020176         HUAMALIES                 LLATA          2021-04-29  \n",
       "\n",
       "[3020177 rows x 12 columns]"
      ]
     },
     "execution_count": 29,
     "metadata": {},
     "output_type": "execute_result"
    }
   ],
   "source": [
    "vacunas['DOSIS'] = vacunas['DOSIS'].apply(str)\n",
    "vacunas"
   ]
  },
  {
   "cell_type": "code",
   "execution_count": 30,
   "metadata": {},
   "outputs": [
    {
     "data": {
      "text/html": [
       "<div>\n",
       "<style scoped>\n",
       "    .dataframe tbody tr th:only-of-type {\n",
       "        vertical-align: middle;\n",
       "    }\n",
       "\n",
       "    .dataframe tbody tr th {\n",
       "        vertical-align: top;\n",
       "    }\n",
       "\n",
       "    .dataframe thead th {\n",
       "        text-align: right;\n",
       "    }\n",
       "</style>\n",
       "<table border=\"1\" class=\"dataframe\">\n",
       "  <thead>\n",
       "    <tr style=\"text-align: right;\">\n",
       "      <th></th>\n",
       "      <th>FECHA_VACUNACION_dt</th>\n",
       "      <th>DOSIS</th>\n",
       "      <th>UUID</th>\n",
       "    </tr>\n",
       "  </thead>\n",
       "  <tbody>\n",
       "    <tr>\n",
       "      <th>0</th>\n",
       "      <td>2021-02-09</td>\n",
       "      <td>1</td>\n",
       "      <td>3842</td>\n",
       "    </tr>\n",
       "    <tr>\n",
       "      <th>1</th>\n",
       "      <td>2021-02-10</td>\n",
       "      <td>1</td>\n",
       "      <td>16586</td>\n",
       "    </tr>\n",
       "    <tr>\n",
       "      <th>2</th>\n",
       "      <td>2021-02-11</td>\n",
       "      <td>1</td>\n",
       "      <td>34118</td>\n",
       "    </tr>\n",
       "    <tr>\n",
       "      <th>3</th>\n",
       "      <td>2021-02-12</td>\n",
       "      <td>1</td>\n",
       "      <td>32301</td>\n",
       "    </tr>\n",
       "    <tr>\n",
       "      <th>4</th>\n",
       "      <td>2021-02-13</td>\n",
       "      <td>1</td>\n",
       "      <td>18808</td>\n",
       "    </tr>\n",
       "  </tbody>\n",
       "</table>\n",
       "</div>"
      ],
      "text/plain": [
       "  FECHA_VACUNACION_dt DOSIS   UUID\n",
       "0          2021-02-09     1   3842\n",
       "1          2021-02-10     1  16586\n",
       "2          2021-02-11     1  34118\n",
       "3          2021-02-12     1  32301\n",
       "4          2021-02-13     1  18808"
      ]
     },
     "execution_count": 30,
     "metadata": {},
     "output_type": "execute_result"
    }
   ],
   "source": [
    "vacunas_df = vacunas.groupby(['FECHA_VACUNACION_dt','DOSIS']).count()['UUID'].reset_index()\n",
    "vacunas_df.head()"
   ]
  },
  {
   "cell_type": "code",
   "execution_count": 68,
   "metadata": {},
   "outputs": [],
   "source": [
    "vacunas_df.to_csv(join(ruta,'vacunas_timeline.csv'),index=False)"
   ]
  },
  {
   "cell_type": "code",
   "execution_count": 31,
   "metadata": {},
   "outputs": [
    {
     "data": {
      "application/vnd.plotly.v1+json": {
       "config": {
        "plotlyServerURL": "https://plot.ly"
       },
       "data": [
        {
         "alignmentgroup": "True",
         "hovertemplate": "DOSIS=1<br>FECHA_VACUNACION_dt=%{x}<br>UUID=%{y}<extra></extra>",
         "legendgroup": "1",
         "marker": {
          "color": "#636efa"
         },
         "name": "1",
         "offsetgroup": "1",
         "orientation": "v",
         "showlegend": true,
         "textposition": "auto",
         "type": "bar",
         "x": [
          "2021-02-09T00:00:00",
          "2021-02-10T00:00:00",
          "2021-02-11T00:00:00",
          "2021-02-12T00:00:00",
          "2021-02-13T00:00:00",
          "2021-02-14T00:00:00",
          "2021-02-15T00:00:00",
          "2021-02-16T00:00:00",
          "2021-02-17T00:00:00",
          "2021-02-18T00:00:00",
          "2021-02-19T00:00:00",
          "2021-02-20T00:00:00",
          "2021-02-21T00:00:00",
          "2021-02-22T00:00:00",
          "2021-02-23T00:00:00",
          "2021-02-24T00:00:00",
          "2021-02-25T00:00:00",
          "2021-02-26T00:00:00",
          "2021-02-27T00:00:00",
          "2021-02-28T00:00:00",
          "2021-03-01T00:00:00",
          "2021-03-02T00:00:00",
          "2021-03-03T00:00:00",
          "2021-03-04T00:00:00",
          "2021-03-05T00:00:00",
          "2021-03-06T00:00:00",
          "2021-03-07T00:00:00",
          "2021-03-08T00:00:00",
          "2021-03-09T00:00:00",
          "2021-03-10T00:00:00",
          "2021-03-11T00:00:00",
          "2021-03-12T00:00:00",
          "2021-03-13T00:00:00",
          "2021-03-14T00:00:00",
          "2021-03-15T00:00:00",
          "2021-03-16T00:00:00",
          "2021-03-17T00:00:00",
          "2021-03-18T00:00:00",
          "2021-03-19T00:00:00",
          "2021-03-20T00:00:00",
          "2021-03-21T00:00:00",
          "2021-03-22T00:00:00",
          "2021-03-23T00:00:00",
          "2021-03-24T00:00:00",
          "2021-03-25T00:00:00",
          "2021-03-26T00:00:00",
          "2021-03-27T00:00:00",
          "2021-03-28T00:00:00",
          "2021-03-29T00:00:00",
          "2021-03-30T00:00:00",
          "2021-03-31T00:00:00",
          "2021-04-01T00:00:00",
          "2021-04-02T00:00:00",
          "2021-04-03T00:00:00",
          "2021-04-04T00:00:00",
          "2021-04-05T00:00:00",
          "2021-04-06T00:00:00",
          "2021-04-07T00:00:00",
          "2021-04-08T00:00:00",
          "2021-04-09T00:00:00",
          "2021-04-10T00:00:00",
          "2021-04-11T00:00:00",
          "2021-04-12T00:00:00",
          "2021-04-13T00:00:00",
          "2021-04-14T00:00:00",
          "2021-04-15T00:00:00",
          "2021-04-16T00:00:00",
          "2021-04-17T00:00:00",
          "2021-04-18T00:00:00",
          "2021-04-19T00:00:00",
          "2021-04-20T00:00:00",
          "2021-04-21T00:00:00",
          "2021-04-22T00:00:00",
          "2021-04-23T00:00:00",
          "2021-04-24T00:00:00",
          "2021-04-25T00:00:00",
          "2021-04-26T00:00:00",
          "2021-04-27T00:00:00",
          "2021-04-28T00:00:00",
          "2021-04-29T00:00:00",
          "2021-04-30T00:00:00",
          "2021-05-01T00:00:00",
          "2021-05-02T00:00:00",
          "2021-05-03T00:00:00",
          "2021-05-04T00:00:00",
          "2021-05-05T00:00:00",
          "2021-05-06T00:00:00",
          "2021-05-07T00:00:00",
          "2021-05-08T00:00:00",
          "2021-05-09T00:00:00",
          "2021-05-10T00:00:00",
          "2021-05-11T00:00:00",
          "2021-05-12T00:00:00",
          "2021-05-13T00:00:00",
          "2021-05-14T00:00:00",
          "2021-05-15T00:00:00",
          "2021-05-16T00:00:00",
          "2021-05-17T00:00:00",
          "2021-05-18T00:00:00",
          "2021-05-19T00:00:00",
          "2021-05-20T00:00:00",
          "2021-05-21T00:00:00"
         ],
         "xaxis": "x",
         "y": [
          3842,
          16586,
          34118,
          32301,
          18808,
          5172,
          11512,
          7439,
          3881,
          7332,
          29838,
          25986,
          4370,
          28800,
          26801,
          22310,
          15593,
          15712,
          6858,
          1012,
          9279,
          6879,
          6561,
          3801,
          4680,
          2950,
          139,
          18176,
          19620,
          12675,
          8330,
          8761,
          6132,
          637,
          17929,
          22237,
          22532,
          26180,
          25583,
          18083,
          656,
          8634,
          15432,
          14588,
          12835,
          16419,
          11212,
          2074,
          4877,
          4536,
          7556,
          2296,
          1013,
          2493,
          259,
          5643,
          11137,
          13004,
          16771,
          15540,
          4199,
          21,
          766,
          1874,
          2694,
          1810,
          19699,
          29294,
          27752,
          6862,
          11190,
          9469,
          8195,
          26330,
          26990,
          14929,
          14872,
          19079,
          38837,
          43908,
          79047,
          60501,
          45839,
          57206,
          21503,
          19163,
          37990,
          32225,
          56807,
          27843,
          43210,
          38651,
          54111,
          71435,
          83159,
          50122,
          21411,
          48178,
          55717,
          51991,
          61856,
          69387
         ],
         "yaxis": "y"
        },
        {
         "alignmentgroup": "True",
         "hovertemplate": "DOSIS=2<br>FECHA_VACUNACION_dt=%{x}<br>UUID=%{y}<extra></extra>",
         "legendgroup": "2",
         "marker": {
          "color": "#EF553B"
         },
         "name": "2",
         "offsetgroup": "2",
         "orientation": "v",
         "showlegend": true,
         "textposition": "auto",
         "type": "bar",
         "x": [
          "2021-03-02T00:00:00",
          "2021-03-03T00:00:00",
          "2021-03-04T00:00:00",
          "2021-03-05T00:00:00",
          "2021-03-06T00:00:00",
          "2021-03-07T00:00:00",
          "2021-03-08T00:00:00",
          "2021-03-09T00:00:00",
          "2021-03-10T00:00:00",
          "2021-03-11T00:00:00",
          "2021-03-12T00:00:00",
          "2021-03-13T00:00:00",
          "2021-03-14T00:00:00",
          "2021-03-15T00:00:00",
          "2021-03-16T00:00:00",
          "2021-03-17T00:00:00",
          "2021-03-18T00:00:00",
          "2021-03-19T00:00:00",
          "2021-03-20T00:00:00",
          "2021-03-21T00:00:00",
          "2021-03-22T00:00:00",
          "2021-03-23T00:00:00",
          "2021-03-24T00:00:00",
          "2021-03-25T00:00:00",
          "2021-03-26T00:00:00",
          "2021-03-27T00:00:00",
          "2021-03-28T00:00:00",
          "2021-03-29T00:00:00",
          "2021-03-30T00:00:00",
          "2021-03-31T00:00:00",
          "2021-04-01T00:00:00",
          "2021-04-02T00:00:00",
          "2021-04-03T00:00:00",
          "2021-04-04T00:00:00",
          "2021-04-05T00:00:00",
          "2021-04-06T00:00:00",
          "2021-04-07T00:00:00",
          "2021-04-08T00:00:00",
          "2021-04-09T00:00:00",
          "2021-04-10T00:00:00",
          "2021-04-11T00:00:00",
          "2021-04-12T00:00:00",
          "2021-04-13T00:00:00",
          "2021-04-14T00:00:00",
          "2021-04-15T00:00:00",
          "2021-04-16T00:00:00",
          "2021-04-17T00:00:00",
          "2021-04-18T00:00:00",
          "2021-04-19T00:00:00",
          "2021-04-20T00:00:00",
          "2021-04-21T00:00:00",
          "2021-04-22T00:00:00",
          "2021-04-23T00:00:00",
          "2021-04-24T00:00:00",
          "2021-04-25T00:00:00",
          "2021-04-26T00:00:00",
          "2021-04-27T00:00:00",
          "2021-04-28T00:00:00",
          "2021-04-29T00:00:00",
          "2021-04-30T00:00:00",
          "2021-05-01T00:00:00",
          "2021-05-02T00:00:00",
          "2021-05-03T00:00:00",
          "2021-05-04T00:00:00",
          "2021-05-05T00:00:00",
          "2021-05-06T00:00:00",
          "2021-05-07T00:00:00",
          "2021-05-08T00:00:00",
          "2021-05-09T00:00:00",
          "2021-05-10T00:00:00",
          "2021-05-11T00:00:00",
          "2021-05-12T00:00:00",
          "2021-05-13T00:00:00",
          "2021-05-14T00:00:00",
          "2021-05-15T00:00:00",
          "2021-05-16T00:00:00",
          "2021-05-17T00:00:00",
          "2021-05-18T00:00:00",
          "2021-05-19T00:00:00",
          "2021-05-20T00:00:00",
          "2021-05-21T00:00:00"
         ],
         "xaxis": "x",
         "y": [
          2073,
          12030,
          27754,
          31319,
          15752,
          2114,
          12216,
          6892,
          4876,
          5598,
          16470,
          27526,
          2696,
          27074,
          23283,
          22871,
          16052,
          15462,
          6379,
          1024,
          8313,
          8826,
          7033,
          4709,
          4287,
          2825,
          198,
          12745,
          21519,
          17064,
          4115,
          2763,
          5943,
          438,
          9716,
          17243,
          16595,
          28263,
          17616,
          8632,
          69,
          13146,
          19593,
          19943,
          21217,
          21472,
          14270,
          3076,
          3836,
          4657,
          9570,
          2378,
          2503,
          2247,
          85,
          3728,
          9005,
          10761,
          11916,
          14866,
          2536,
          1047,
          4535,
          1360,
          4245,
          1827,
          14147,
          20994,
          24194,
          8571,
          9600,
          10043,
          6874,
          18694,
          19385,
          12436,
          6298,
          8171,
          14735,
          10394,
          30917
         ],
         "yaxis": "y"
        }
       ],
       "layout": {
        "barmode": "relative",
        "legend": {
         "title": {
          "text": "DOSIS"
         },
         "tracegroupgap": 0
        },
        "margin": {
         "t": 60
        },
        "template": {
         "data": {
          "bar": [
           {
            "error_x": {
             "color": "#2a3f5f"
            },
            "error_y": {
             "color": "#2a3f5f"
            },
            "marker": {
             "line": {
              "color": "#E5ECF6",
              "width": 0.5
             }
            },
            "type": "bar"
           }
          ],
          "barpolar": [
           {
            "marker": {
             "line": {
              "color": "#E5ECF6",
              "width": 0.5
             }
            },
            "type": "barpolar"
           }
          ],
          "carpet": [
           {
            "aaxis": {
             "endlinecolor": "#2a3f5f",
             "gridcolor": "white",
             "linecolor": "white",
             "minorgridcolor": "white",
             "startlinecolor": "#2a3f5f"
            },
            "baxis": {
             "endlinecolor": "#2a3f5f",
             "gridcolor": "white",
             "linecolor": "white",
             "minorgridcolor": "white",
             "startlinecolor": "#2a3f5f"
            },
            "type": "carpet"
           }
          ],
          "choropleth": [
           {
            "colorbar": {
             "outlinewidth": 0,
             "ticks": ""
            },
            "type": "choropleth"
           }
          ],
          "contour": [
           {
            "colorbar": {
             "outlinewidth": 0,
             "ticks": ""
            },
            "colorscale": [
             [
              0,
              "#0d0887"
             ],
             [
              0.1111111111111111,
              "#46039f"
             ],
             [
              0.2222222222222222,
              "#7201a8"
             ],
             [
              0.3333333333333333,
              "#9c179e"
             ],
             [
              0.4444444444444444,
              "#bd3786"
             ],
             [
              0.5555555555555556,
              "#d8576b"
             ],
             [
              0.6666666666666666,
              "#ed7953"
             ],
             [
              0.7777777777777778,
              "#fb9f3a"
             ],
             [
              0.8888888888888888,
              "#fdca26"
             ],
             [
              1,
              "#f0f921"
             ]
            ],
            "type": "contour"
           }
          ],
          "contourcarpet": [
           {
            "colorbar": {
             "outlinewidth": 0,
             "ticks": ""
            },
            "type": "contourcarpet"
           }
          ],
          "heatmap": [
           {
            "colorbar": {
             "outlinewidth": 0,
             "ticks": ""
            },
            "colorscale": [
             [
              0,
              "#0d0887"
             ],
             [
              0.1111111111111111,
              "#46039f"
             ],
             [
              0.2222222222222222,
              "#7201a8"
             ],
             [
              0.3333333333333333,
              "#9c179e"
             ],
             [
              0.4444444444444444,
              "#bd3786"
             ],
             [
              0.5555555555555556,
              "#d8576b"
             ],
             [
              0.6666666666666666,
              "#ed7953"
             ],
             [
              0.7777777777777778,
              "#fb9f3a"
             ],
             [
              0.8888888888888888,
              "#fdca26"
             ],
             [
              1,
              "#f0f921"
             ]
            ],
            "type": "heatmap"
           }
          ],
          "heatmapgl": [
           {
            "colorbar": {
             "outlinewidth": 0,
             "ticks": ""
            },
            "colorscale": [
             [
              0,
              "#0d0887"
             ],
             [
              0.1111111111111111,
              "#46039f"
             ],
             [
              0.2222222222222222,
              "#7201a8"
             ],
             [
              0.3333333333333333,
              "#9c179e"
             ],
             [
              0.4444444444444444,
              "#bd3786"
             ],
             [
              0.5555555555555556,
              "#d8576b"
             ],
             [
              0.6666666666666666,
              "#ed7953"
             ],
             [
              0.7777777777777778,
              "#fb9f3a"
             ],
             [
              0.8888888888888888,
              "#fdca26"
             ],
             [
              1,
              "#f0f921"
             ]
            ],
            "type": "heatmapgl"
           }
          ],
          "histogram": [
           {
            "marker": {
             "colorbar": {
              "outlinewidth": 0,
              "ticks": ""
             }
            },
            "type": "histogram"
           }
          ],
          "histogram2d": [
           {
            "colorbar": {
             "outlinewidth": 0,
             "ticks": ""
            },
            "colorscale": [
             [
              0,
              "#0d0887"
             ],
             [
              0.1111111111111111,
              "#46039f"
             ],
             [
              0.2222222222222222,
              "#7201a8"
             ],
             [
              0.3333333333333333,
              "#9c179e"
             ],
             [
              0.4444444444444444,
              "#bd3786"
             ],
             [
              0.5555555555555556,
              "#d8576b"
             ],
             [
              0.6666666666666666,
              "#ed7953"
             ],
             [
              0.7777777777777778,
              "#fb9f3a"
             ],
             [
              0.8888888888888888,
              "#fdca26"
             ],
             [
              1,
              "#f0f921"
             ]
            ],
            "type": "histogram2d"
           }
          ],
          "histogram2dcontour": [
           {
            "colorbar": {
             "outlinewidth": 0,
             "ticks": ""
            },
            "colorscale": [
             [
              0,
              "#0d0887"
             ],
             [
              0.1111111111111111,
              "#46039f"
             ],
             [
              0.2222222222222222,
              "#7201a8"
             ],
             [
              0.3333333333333333,
              "#9c179e"
             ],
             [
              0.4444444444444444,
              "#bd3786"
             ],
             [
              0.5555555555555556,
              "#d8576b"
             ],
             [
              0.6666666666666666,
              "#ed7953"
             ],
             [
              0.7777777777777778,
              "#fb9f3a"
             ],
             [
              0.8888888888888888,
              "#fdca26"
             ],
             [
              1,
              "#f0f921"
             ]
            ],
            "type": "histogram2dcontour"
           }
          ],
          "mesh3d": [
           {
            "colorbar": {
             "outlinewidth": 0,
             "ticks": ""
            },
            "type": "mesh3d"
           }
          ],
          "parcoords": [
           {
            "line": {
             "colorbar": {
              "outlinewidth": 0,
              "ticks": ""
             }
            },
            "type": "parcoords"
           }
          ],
          "pie": [
           {
            "automargin": true,
            "type": "pie"
           }
          ],
          "scatter": [
           {
            "marker": {
             "colorbar": {
              "outlinewidth": 0,
              "ticks": ""
             }
            },
            "type": "scatter"
           }
          ],
          "scatter3d": [
           {
            "line": {
             "colorbar": {
              "outlinewidth": 0,
              "ticks": ""
             }
            },
            "marker": {
             "colorbar": {
              "outlinewidth": 0,
              "ticks": ""
             }
            },
            "type": "scatter3d"
           }
          ],
          "scattercarpet": [
           {
            "marker": {
             "colorbar": {
              "outlinewidth": 0,
              "ticks": ""
             }
            },
            "type": "scattercarpet"
           }
          ],
          "scattergeo": [
           {
            "marker": {
             "colorbar": {
              "outlinewidth": 0,
              "ticks": ""
             }
            },
            "type": "scattergeo"
           }
          ],
          "scattergl": [
           {
            "marker": {
             "colorbar": {
              "outlinewidth": 0,
              "ticks": ""
             }
            },
            "type": "scattergl"
           }
          ],
          "scattermapbox": [
           {
            "marker": {
             "colorbar": {
              "outlinewidth": 0,
              "ticks": ""
             }
            },
            "type": "scattermapbox"
           }
          ],
          "scatterpolar": [
           {
            "marker": {
             "colorbar": {
              "outlinewidth": 0,
              "ticks": ""
             }
            },
            "type": "scatterpolar"
           }
          ],
          "scatterpolargl": [
           {
            "marker": {
             "colorbar": {
              "outlinewidth": 0,
              "ticks": ""
             }
            },
            "type": "scatterpolargl"
           }
          ],
          "scatterternary": [
           {
            "marker": {
             "colorbar": {
              "outlinewidth": 0,
              "ticks": ""
             }
            },
            "type": "scatterternary"
           }
          ],
          "surface": [
           {
            "colorbar": {
             "outlinewidth": 0,
             "ticks": ""
            },
            "colorscale": [
             [
              0,
              "#0d0887"
             ],
             [
              0.1111111111111111,
              "#46039f"
             ],
             [
              0.2222222222222222,
              "#7201a8"
             ],
             [
              0.3333333333333333,
              "#9c179e"
             ],
             [
              0.4444444444444444,
              "#bd3786"
             ],
             [
              0.5555555555555556,
              "#d8576b"
             ],
             [
              0.6666666666666666,
              "#ed7953"
             ],
             [
              0.7777777777777778,
              "#fb9f3a"
             ],
             [
              0.8888888888888888,
              "#fdca26"
             ],
             [
              1,
              "#f0f921"
             ]
            ],
            "type": "surface"
           }
          ],
          "table": [
           {
            "cells": {
             "fill": {
              "color": "#EBF0F8"
             },
             "line": {
              "color": "white"
             }
            },
            "header": {
             "fill": {
              "color": "#C8D4E3"
             },
             "line": {
              "color": "white"
             }
            },
            "type": "table"
           }
          ]
         },
         "layout": {
          "annotationdefaults": {
           "arrowcolor": "#2a3f5f",
           "arrowhead": 0,
           "arrowwidth": 1
          },
          "autotypenumbers": "strict",
          "coloraxis": {
           "colorbar": {
            "outlinewidth": 0,
            "ticks": ""
           }
          },
          "colorscale": {
           "diverging": [
            [
             0,
             "#8e0152"
            ],
            [
             0.1,
             "#c51b7d"
            ],
            [
             0.2,
             "#de77ae"
            ],
            [
             0.3,
             "#f1b6da"
            ],
            [
             0.4,
             "#fde0ef"
            ],
            [
             0.5,
             "#f7f7f7"
            ],
            [
             0.6,
             "#e6f5d0"
            ],
            [
             0.7,
             "#b8e186"
            ],
            [
             0.8,
             "#7fbc41"
            ],
            [
             0.9,
             "#4d9221"
            ],
            [
             1,
             "#276419"
            ]
           ],
           "sequential": [
            [
             0,
             "#0d0887"
            ],
            [
             0.1111111111111111,
             "#46039f"
            ],
            [
             0.2222222222222222,
             "#7201a8"
            ],
            [
             0.3333333333333333,
             "#9c179e"
            ],
            [
             0.4444444444444444,
             "#bd3786"
            ],
            [
             0.5555555555555556,
             "#d8576b"
            ],
            [
             0.6666666666666666,
             "#ed7953"
            ],
            [
             0.7777777777777778,
             "#fb9f3a"
            ],
            [
             0.8888888888888888,
             "#fdca26"
            ],
            [
             1,
             "#f0f921"
            ]
           ],
           "sequentialminus": [
            [
             0,
             "#0d0887"
            ],
            [
             0.1111111111111111,
             "#46039f"
            ],
            [
             0.2222222222222222,
             "#7201a8"
            ],
            [
             0.3333333333333333,
             "#9c179e"
            ],
            [
             0.4444444444444444,
             "#bd3786"
            ],
            [
             0.5555555555555556,
             "#d8576b"
            ],
            [
             0.6666666666666666,
             "#ed7953"
            ],
            [
             0.7777777777777778,
             "#fb9f3a"
            ],
            [
             0.8888888888888888,
             "#fdca26"
            ],
            [
             1,
             "#f0f921"
            ]
           ]
          },
          "colorway": [
           "#636efa",
           "#EF553B",
           "#00cc96",
           "#ab63fa",
           "#FFA15A",
           "#19d3f3",
           "#FF6692",
           "#B6E880",
           "#FF97FF",
           "#FECB52"
          ],
          "font": {
           "color": "#2a3f5f"
          },
          "geo": {
           "bgcolor": "white",
           "lakecolor": "white",
           "landcolor": "#E5ECF6",
           "showlakes": true,
           "showland": true,
           "subunitcolor": "white"
          },
          "hoverlabel": {
           "align": "left"
          },
          "hovermode": "closest",
          "mapbox": {
           "style": "light"
          },
          "paper_bgcolor": "white",
          "plot_bgcolor": "#E5ECF6",
          "polar": {
           "angularaxis": {
            "gridcolor": "white",
            "linecolor": "white",
            "ticks": ""
           },
           "bgcolor": "#E5ECF6",
           "radialaxis": {
            "gridcolor": "white",
            "linecolor": "white",
            "ticks": ""
           }
          },
          "scene": {
           "xaxis": {
            "backgroundcolor": "#E5ECF6",
            "gridcolor": "white",
            "gridwidth": 2,
            "linecolor": "white",
            "showbackground": true,
            "ticks": "",
            "zerolinecolor": "white"
           },
           "yaxis": {
            "backgroundcolor": "#E5ECF6",
            "gridcolor": "white",
            "gridwidth": 2,
            "linecolor": "white",
            "showbackground": true,
            "ticks": "",
            "zerolinecolor": "white"
           },
           "zaxis": {
            "backgroundcolor": "#E5ECF6",
            "gridcolor": "white",
            "gridwidth": 2,
            "linecolor": "white",
            "showbackground": true,
            "ticks": "",
            "zerolinecolor": "white"
           }
          },
          "shapedefaults": {
           "line": {
            "color": "#2a3f5f"
           }
          },
          "ternary": {
           "aaxis": {
            "gridcolor": "white",
            "linecolor": "white",
            "ticks": ""
           },
           "baxis": {
            "gridcolor": "white",
            "linecolor": "white",
            "ticks": ""
           },
           "bgcolor": "#E5ECF6",
           "caxis": {
            "gridcolor": "white",
            "linecolor": "white",
            "ticks": ""
           }
          },
          "title": {
           "x": 0.05
          },
          "xaxis": {
           "automargin": true,
           "gridcolor": "white",
           "linecolor": "white",
           "ticks": "",
           "title": {
            "standoff": 15
           },
           "zerolinecolor": "white",
           "zerolinewidth": 2
          },
          "yaxis": {
           "automargin": true,
           "gridcolor": "white",
           "linecolor": "white",
           "ticks": "",
           "title": {
            "standoff": 15
           },
           "zerolinecolor": "white",
           "zerolinewidth": 2
          }
         }
        },
        "xaxis": {
         "anchor": "y",
         "domain": [
          0,
          1
         ],
         "title": {
          "text": "FECHA_VACUNACION_dt"
         }
        },
        "yaxis": {
         "anchor": "x",
         "domain": [
          0,
          1
         ],
         "title": {
          "text": "UUID"
         }
        }
       }
      },
      "text/html": [
       "<div>                            <div id=\"fff5b034-a0f6-4eed-b0ae-536105b4c5a4\" class=\"plotly-graph-div\" style=\"height:525px; width:100%;\"></div>            <script type=\"text/javascript\">                require([\"plotly\"], function(Plotly) {                    window.PLOTLYENV=window.PLOTLYENV || {};                                    if (document.getElementById(\"fff5b034-a0f6-4eed-b0ae-536105b4c5a4\")) {                    Plotly.newPlot(                        \"fff5b034-a0f6-4eed-b0ae-536105b4c5a4\",                        [{\"alignmentgroup\": \"True\", \"hovertemplate\": \"DOSIS=1<br>FECHA_VACUNACION_dt=%{x}<br>UUID=%{y}<extra></extra>\", \"legendgroup\": \"1\", \"marker\": {\"color\": \"#636efa\"}, \"name\": \"1\", \"offsetgroup\": \"1\", \"orientation\": \"v\", \"showlegend\": true, \"textposition\": \"auto\", \"type\": \"bar\", \"x\": [\"2021-02-09T00:00:00\", \"2021-02-10T00:00:00\", \"2021-02-11T00:00:00\", \"2021-02-12T00:00:00\", \"2021-02-13T00:00:00\", \"2021-02-14T00:00:00\", \"2021-02-15T00:00:00\", \"2021-02-16T00:00:00\", \"2021-02-17T00:00:00\", \"2021-02-18T00:00:00\", \"2021-02-19T00:00:00\", \"2021-02-20T00:00:00\", \"2021-02-21T00:00:00\", \"2021-02-22T00:00:00\", \"2021-02-23T00:00:00\", \"2021-02-24T00:00:00\", \"2021-02-25T00:00:00\", \"2021-02-26T00:00:00\", \"2021-02-27T00:00:00\", \"2021-02-28T00:00:00\", \"2021-03-01T00:00:00\", \"2021-03-02T00:00:00\", \"2021-03-03T00:00:00\", \"2021-03-04T00:00:00\", \"2021-03-05T00:00:00\", \"2021-03-06T00:00:00\", \"2021-03-07T00:00:00\", \"2021-03-08T00:00:00\", \"2021-03-09T00:00:00\", \"2021-03-10T00:00:00\", \"2021-03-11T00:00:00\", \"2021-03-12T00:00:00\", \"2021-03-13T00:00:00\", \"2021-03-14T00:00:00\", \"2021-03-15T00:00:00\", \"2021-03-16T00:00:00\", \"2021-03-17T00:00:00\", \"2021-03-18T00:00:00\", \"2021-03-19T00:00:00\", \"2021-03-20T00:00:00\", \"2021-03-21T00:00:00\", \"2021-03-22T00:00:00\", \"2021-03-23T00:00:00\", \"2021-03-24T00:00:00\", \"2021-03-25T00:00:00\", \"2021-03-26T00:00:00\", \"2021-03-27T00:00:00\", \"2021-03-28T00:00:00\", \"2021-03-29T00:00:00\", \"2021-03-30T00:00:00\", \"2021-03-31T00:00:00\", \"2021-04-01T00:00:00\", \"2021-04-02T00:00:00\", \"2021-04-03T00:00:00\", \"2021-04-04T00:00:00\", \"2021-04-05T00:00:00\", \"2021-04-06T00:00:00\", \"2021-04-07T00:00:00\", \"2021-04-08T00:00:00\", \"2021-04-09T00:00:00\", \"2021-04-10T00:00:00\", \"2021-04-11T00:00:00\", \"2021-04-12T00:00:00\", \"2021-04-13T00:00:00\", \"2021-04-14T00:00:00\", \"2021-04-15T00:00:00\", \"2021-04-16T00:00:00\", \"2021-04-17T00:00:00\", \"2021-04-18T00:00:00\", \"2021-04-19T00:00:00\", \"2021-04-20T00:00:00\", \"2021-04-21T00:00:00\", \"2021-04-22T00:00:00\", \"2021-04-23T00:00:00\", \"2021-04-24T00:00:00\", \"2021-04-25T00:00:00\", \"2021-04-26T00:00:00\", \"2021-04-27T00:00:00\", \"2021-04-28T00:00:00\", \"2021-04-29T00:00:00\", \"2021-04-30T00:00:00\", \"2021-05-01T00:00:00\", \"2021-05-02T00:00:00\", \"2021-05-03T00:00:00\", \"2021-05-04T00:00:00\", \"2021-05-05T00:00:00\", \"2021-05-06T00:00:00\", \"2021-05-07T00:00:00\", \"2021-05-08T00:00:00\", \"2021-05-09T00:00:00\", \"2021-05-10T00:00:00\", \"2021-05-11T00:00:00\", \"2021-05-12T00:00:00\", \"2021-05-13T00:00:00\", \"2021-05-14T00:00:00\", \"2021-05-15T00:00:00\", \"2021-05-16T00:00:00\", \"2021-05-17T00:00:00\", \"2021-05-18T00:00:00\", \"2021-05-19T00:00:00\", \"2021-05-20T00:00:00\", \"2021-05-21T00:00:00\"], \"xaxis\": \"x\", \"y\": [3842, 16586, 34118, 32301, 18808, 5172, 11512, 7439, 3881, 7332, 29838, 25986, 4370, 28800, 26801, 22310, 15593, 15712, 6858, 1012, 9279, 6879, 6561, 3801, 4680, 2950, 139, 18176, 19620, 12675, 8330, 8761, 6132, 637, 17929, 22237, 22532, 26180, 25583, 18083, 656, 8634, 15432, 14588, 12835, 16419, 11212, 2074, 4877, 4536, 7556, 2296, 1013, 2493, 259, 5643, 11137, 13004, 16771, 15540, 4199, 21, 766, 1874, 2694, 1810, 19699, 29294, 27752, 6862, 11190, 9469, 8195, 26330, 26990, 14929, 14872, 19079, 38837, 43908, 79047, 60501, 45839, 57206, 21503, 19163, 37990, 32225, 56807, 27843, 43210, 38651, 54111, 71435, 83159, 50122, 21411, 48178, 55717, 51991, 61856, 69387], \"yaxis\": \"y\"}, {\"alignmentgroup\": \"True\", \"hovertemplate\": \"DOSIS=2<br>FECHA_VACUNACION_dt=%{x}<br>UUID=%{y}<extra></extra>\", \"legendgroup\": \"2\", \"marker\": {\"color\": \"#EF553B\"}, \"name\": \"2\", \"offsetgroup\": \"2\", \"orientation\": \"v\", \"showlegend\": true, \"textposition\": \"auto\", \"type\": \"bar\", \"x\": [\"2021-03-02T00:00:00\", \"2021-03-03T00:00:00\", \"2021-03-04T00:00:00\", \"2021-03-05T00:00:00\", \"2021-03-06T00:00:00\", \"2021-03-07T00:00:00\", \"2021-03-08T00:00:00\", \"2021-03-09T00:00:00\", \"2021-03-10T00:00:00\", \"2021-03-11T00:00:00\", \"2021-03-12T00:00:00\", \"2021-03-13T00:00:00\", \"2021-03-14T00:00:00\", \"2021-03-15T00:00:00\", \"2021-03-16T00:00:00\", \"2021-03-17T00:00:00\", \"2021-03-18T00:00:00\", \"2021-03-19T00:00:00\", \"2021-03-20T00:00:00\", \"2021-03-21T00:00:00\", \"2021-03-22T00:00:00\", \"2021-03-23T00:00:00\", \"2021-03-24T00:00:00\", \"2021-03-25T00:00:00\", \"2021-03-26T00:00:00\", \"2021-03-27T00:00:00\", \"2021-03-28T00:00:00\", \"2021-03-29T00:00:00\", \"2021-03-30T00:00:00\", \"2021-03-31T00:00:00\", \"2021-04-01T00:00:00\", \"2021-04-02T00:00:00\", \"2021-04-03T00:00:00\", \"2021-04-04T00:00:00\", \"2021-04-05T00:00:00\", \"2021-04-06T00:00:00\", \"2021-04-07T00:00:00\", \"2021-04-08T00:00:00\", \"2021-04-09T00:00:00\", \"2021-04-10T00:00:00\", \"2021-04-11T00:00:00\", \"2021-04-12T00:00:00\", \"2021-04-13T00:00:00\", \"2021-04-14T00:00:00\", \"2021-04-15T00:00:00\", \"2021-04-16T00:00:00\", \"2021-04-17T00:00:00\", \"2021-04-18T00:00:00\", \"2021-04-19T00:00:00\", \"2021-04-20T00:00:00\", \"2021-04-21T00:00:00\", \"2021-04-22T00:00:00\", \"2021-04-23T00:00:00\", \"2021-04-24T00:00:00\", \"2021-04-25T00:00:00\", \"2021-04-26T00:00:00\", \"2021-04-27T00:00:00\", \"2021-04-28T00:00:00\", \"2021-04-29T00:00:00\", \"2021-04-30T00:00:00\", \"2021-05-01T00:00:00\", \"2021-05-02T00:00:00\", \"2021-05-03T00:00:00\", \"2021-05-04T00:00:00\", \"2021-05-05T00:00:00\", \"2021-05-06T00:00:00\", \"2021-05-07T00:00:00\", \"2021-05-08T00:00:00\", \"2021-05-09T00:00:00\", \"2021-05-10T00:00:00\", \"2021-05-11T00:00:00\", \"2021-05-12T00:00:00\", \"2021-05-13T00:00:00\", \"2021-05-14T00:00:00\", \"2021-05-15T00:00:00\", \"2021-05-16T00:00:00\", \"2021-05-17T00:00:00\", \"2021-05-18T00:00:00\", \"2021-05-19T00:00:00\", \"2021-05-20T00:00:00\", \"2021-05-21T00:00:00\"], \"xaxis\": \"x\", \"y\": [2073, 12030, 27754, 31319, 15752, 2114, 12216, 6892, 4876, 5598, 16470, 27526, 2696, 27074, 23283, 22871, 16052, 15462, 6379, 1024, 8313, 8826, 7033, 4709, 4287, 2825, 198, 12745, 21519, 17064, 4115, 2763, 5943, 438, 9716, 17243, 16595, 28263, 17616, 8632, 69, 13146, 19593, 19943, 21217, 21472, 14270, 3076, 3836, 4657, 9570, 2378, 2503, 2247, 85, 3728, 9005, 10761, 11916, 14866, 2536, 1047, 4535, 1360, 4245, 1827, 14147, 20994, 24194, 8571, 9600, 10043, 6874, 18694, 19385, 12436, 6298, 8171, 14735, 10394, 30917], \"yaxis\": \"y\"}],                        {\"barmode\": \"relative\", \"legend\": {\"title\": {\"text\": \"DOSIS\"}, \"tracegroupgap\": 0}, \"margin\": {\"t\": 60}, \"template\": {\"data\": {\"bar\": [{\"error_x\": {\"color\": \"#2a3f5f\"}, \"error_y\": {\"color\": \"#2a3f5f\"}, \"marker\": {\"line\": {\"color\": \"#E5ECF6\", \"width\": 0.5}}, \"type\": \"bar\"}], \"barpolar\": [{\"marker\": {\"line\": {\"color\": \"#E5ECF6\", \"width\": 0.5}}, \"type\": \"barpolar\"}], \"carpet\": [{\"aaxis\": {\"endlinecolor\": \"#2a3f5f\", \"gridcolor\": \"white\", \"linecolor\": \"white\", \"minorgridcolor\": \"white\", \"startlinecolor\": \"#2a3f5f\"}, \"baxis\": {\"endlinecolor\": \"#2a3f5f\", \"gridcolor\": \"white\", \"linecolor\": \"white\", \"minorgridcolor\": \"white\", \"startlinecolor\": \"#2a3f5f\"}, \"type\": \"carpet\"}], \"choropleth\": [{\"colorbar\": {\"outlinewidth\": 0, \"ticks\": \"\"}, \"type\": \"choropleth\"}], \"contour\": [{\"colorbar\": {\"outlinewidth\": 0, \"ticks\": \"\"}, \"colorscale\": [[0.0, \"#0d0887\"], [0.1111111111111111, \"#46039f\"], [0.2222222222222222, \"#7201a8\"], [0.3333333333333333, \"#9c179e\"], [0.4444444444444444, \"#bd3786\"], [0.5555555555555556, \"#d8576b\"], [0.6666666666666666, \"#ed7953\"], [0.7777777777777778, \"#fb9f3a\"], [0.8888888888888888, \"#fdca26\"], [1.0, \"#f0f921\"]], \"type\": \"contour\"}], \"contourcarpet\": [{\"colorbar\": {\"outlinewidth\": 0, \"ticks\": \"\"}, \"type\": \"contourcarpet\"}], \"heatmap\": [{\"colorbar\": {\"outlinewidth\": 0, \"ticks\": \"\"}, \"colorscale\": [[0.0, \"#0d0887\"], [0.1111111111111111, \"#46039f\"], [0.2222222222222222, \"#7201a8\"], [0.3333333333333333, \"#9c179e\"], [0.4444444444444444, \"#bd3786\"], [0.5555555555555556, \"#d8576b\"], [0.6666666666666666, \"#ed7953\"], [0.7777777777777778, \"#fb9f3a\"], [0.8888888888888888, \"#fdca26\"], [1.0, \"#f0f921\"]], \"type\": \"heatmap\"}], \"heatmapgl\": [{\"colorbar\": {\"outlinewidth\": 0, \"ticks\": \"\"}, \"colorscale\": [[0.0, \"#0d0887\"], [0.1111111111111111, \"#46039f\"], [0.2222222222222222, \"#7201a8\"], [0.3333333333333333, \"#9c179e\"], [0.4444444444444444, \"#bd3786\"], [0.5555555555555556, \"#d8576b\"], [0.6666666666666666, \"#ed7953\"], [0.7777777777777778, \"#fb9f3a\"], [0.8888888888888888, \"#fdca26\"], [1.0, \"#f0f921\"]], \"type\": \"heatmapgl\"}], \"histogram\": [{\"marker\": {\"colorbar\": {\"outlinewidth\": 0, \"ticks\": \"\"}}, \"type\": \"histogram\"}], \"histogram2d\": [{\"colorbar\": {\"outlinewidth\": 0, \"ticks\": \"\"}, \"colorscale\": [[0.0, \"#0d0887\"], [0.1111111111111111, \"#46039f\"], [0.2222222222222222, \"#7201a8\"], [0.3333333333333333, \"#9c179e\"], [0.4444444444444444, \"#bd3786\"], [0.5555555555555556, \"#d8576b\"], [0.6666666666666666, \"#ed7953\"], [0.7777777777777778, \"#fb9f3a\"], [0.8888888888888888, \"#fdca26\"], [1.0, \"#f0f921\"]], \"type\": \"histogram2d\"}], \"histogram2dcontour\": [{\"colorbar\": {\"outlinewidth\": 0, \"ticks\": \"\"}, \"colorscale\": [[0.0, \"#0d0887\"], [0.1111111111111111, \"#46039f\"], [0.2222222222222222, \"#7201a8\"], [0.3333333333333333, \"#9c179e\"], [0.4444444444444444, \"#bd3786\"], [0.5555555555555556, \"#d8576b\"], [0.6666666666666666, \"#ed7953\"], [0.7777777777777778, \"#fb9f3a\"], [0.8888888888888888, \"#fdca26\"], [1.0, \"#f0f921\"]], \"type\": \"histogram2dcontour\"}], \"mesh3d\": [{\"colorbar\": {\"outlinewidth\": 0, \"ticks\": \"\"}, \"type\": \"mesh3d\"}], \"parcoords\": [{\"line\": {\"colorbar\": {\"outlinewidth\": 0, \"ticks\": \"\"}}, \"type\": \"parcoords\"}], \"pie\": [{\"automargin\": true, \"type\": \"pie\"}], \"scatter\": [{\"marker\": {\"colorbar\": {\"outlinewidth\": 0, \"ticks\": \"\"}}, \"type\": \"scatter\"}], \"scatter3d\": [{\"line\": {\"colorbar\": {\"outlinewidth\": 0, \"ticks\": \"\"}}, \"marker\": {\"colorbar\": {\"outlinewidth\": 0, \"ticks\": \"\"}}, \"type\": \"scatter3d\"}], \"scattercarpet\": [{\"marker\": {\"colorbar\": {\"outlinewidth\": 0, \"ticks\": \"\"}}, \"type\": \"scattercarpet\"}], \"scattergeo\": [{\"marker\": {\"colorbar\": {\"outlinewidth\": 0, \"ticks\": \"\"}}, \"type\": \"scattergeo\"}], \"scattergl\": [{\"marker\": {\"colorbar\": {\"outlinewidth\": 0, \"ticks\": \"\"}}, \"type\": \"scattergl\"}], \"scattermapbox\": [{\"marker\": {\"colorbar\": {\"outlinewidth\": 0, \"ticks\": \"\"}}, \"type\": \"scattermapbox\"}], \"scatterpolar\": [{\"marker\": {\"colorbar\": {\"outlinewidth\": 0, \"ticks\": \"\"}}, \"type\": \"scatterpolar\"}], \"scatterpolargl\": [{\"marker\": {\"colorbar\": {\"outlinewidth\": 0, \"ticks\": \"\"}}, \"type\": \"scatterpolargl\"}], \"scatterternary\": [{\"marker\": {\"colorbar\": {\"outlinewidth\": 0, \"ticks\": \"\"}}, \"type\": \"scatterternary\"}], \"surface\": [{\"colorbar\": {\"outlinewidth\": 0, \"ticks\": \"\"}, \"colorscale\": [[0.0, \"#0d0887\"], [0.1111111111111111, \"#46039f\"], [0.2222222222222222, \"#7201a8\"], [0.3333333333333333, \"#9c179e\"], [0.4444444444444444, \"#bd3786\"], [0.5555555555555556, \"#d8576b\"], [0.6666666666666666, \"#ed7953\"], [0.7777777777777778, \"#fb9f3a\"], [0.8888888888888888, \"#fdca26\"], [1.0, \"#f0f921\"]], \"type\": \"surface\"}], \"table\": [{\"cells\": {\"fill\": {\"color\": \"#EBF0F8\"}, \"line\": {\"color\": \"white\"}}, \"header\": {\"fill\": {\"color\": \"#C8D4E3\"}, \"line\": {\"color\": \"white\"}}, \"type\": \"table\"}]}, \"layout\": {\"annotationdefaults\": {\"arrowcolor\": \"#2a3f5f\", \"arrowhead\": 0, \"arrowwidth\": 1}, \"autotypenumbers\": \"strict\", \"coloraxis\": {\"colorbar\": {\"outlinewidth\": 0, \"ticks\": \"\"}}, \"colorscale\": {\"diverging\": [[0, \"#8e0152\"], [0.1, \"#c51b7d\"], [0.2, \"#de77ae\"], [0.3, \"#f1b6da\"], [0.4, \"#fde0ef\"], [0.5, \"#f7f7f7\"], [0.6, \"#e6f5d0\"], [0.7, \"#b8e186\"], [0.8, \"#7fbc41\"], [0.9, \"#4d9221\"], [1, \"#276419\"]], \"sequential\": [[0.0, \"#0d0887\"], [0.1111111111111111, \"#46039f\"], [0.2222222222222222, \"#7201a8\"], [0.3333333333333333, \"#9c179e\"], [0.4444444444444444, \"#bd3786\"], [0.5555555555555556, \"#d8576b\"], [0.6666666666666666, \"#ed7953\"], [0.7777777777777778, \"#fb9f3a\"], [0.8888888888888888, \"#fdca26\"], [1.0, \"#f0f921\"]], \"sequentialminus\": [[0.0, \"#0d0887\"], [0.1111111111111111, \"#46039f\"], [0.2222222222222222, \"#7201a8\"], [0.3333333333333333, \"#9c179e\"], [0.4444444444444444, \"#bd3786\"], [0.5555555555555556, \"#d8576b\"], [0.6666666666666666, \"#ed7953\"], [0.7777777777777778, \"#fb9f3a\"], [0.8888888888888888, \"#fdca26\"], [1.0, \"#f0f921\"]]}, \"colorway\": [\"#636efa\", \"#EF553B\", \"#00cc96\", \"#ab63fa\", \"#FFA15A\", \"#19d3f3\", \"#FF6692\", \"#B6E880\", \"#FF97FF\", \"#FECB52\"], \"font\": {\"color\": \"#2a3f5f\"}, \"geo\": {\"bgcolor\": \"white\", \"lakecolor\": \"white\", \"landcolor\": \"#E5ECF6\", \"showlakes\": true, \"showland\": true, \"subunitcolor\": \"white\"}, \"hoverlabel\": {\"align\": \"left\"}, \"hovermode\": \"closest\", \"mapbox\": {\"style\": \"light\"}, \"paper_bgcolor\": \"white\", \"plot_bgcolor\": \"#E5ECF6\", \"polar\": {\"angularaxis\": {\"gridcolor\": \"white\", \"linecolor\": \"white\", \"ticks\": \"\"}, \"bgcolor\": \"#E5ECF6\", \"radialaxis\": {\"gridcolor\": \"white\", \"linecolor\": \"white\", \"ticks\": \"\"}}, \"scene\": {\"xaxis\": {\"backgroundcolor\": \"#E5ECF6\", \"gridcolor\": \"white\", \"gridwidth\": 2, \"linecolor\": \"white\", \"showbackground\": true, \"ticks\": \"\", \"zerolinecolor\": \"white\"}, \"yaxis\": {\"backgroundcolor\": \"#E5ECF6\", \"gridcolor\": \"white\", \"gridwidth\": 2, \"linecolor\": \"white\", \"showbackground\": true, \"ticks\": \"\", \"zerolinecolor\": \"white\"}, \"zaxis\": {\"backgroundcolor\": \"#E5ECF6\", \"gridcolor\": \"white\", \"gridwidth\": 2, \"linecolor\": \"white\", \"showbackground\": true, \"ticks\": \"\", \"zerolinecolor\": \"white\"}}, \"shapedefaults\": {\"line\": {\"color\": \"#2a3f5f\"}}, \"ternary\": {\"aaxis\": {\"gridcolor\": \"white\", \"linecolor\": \"white\", \"ticks\": \"\"}, \"baxis\": {\"gridcolor\": \"white\", \"linecolor\": \"white\", \"ticks\": \"\"}, \"bgcolor\": \"#E5ECF6\", \"caxis\": {\"gridcolor\": \"white\", \"linecolor\": \"white\", \"ticks\": \"\"}}, \"title\": {\"x\": 0.05}, \"xaxis\": {\"automargin\": true, \"gridcolor\": \"white\", \"linecolor\": \"white\", \"ticks\": \"\", \"title\": {\"standoff\": 15}, \"zerolinecolor\": \"white\", \"zerolinewidth\": 2}, \"yaxis\": {\"automargin\": true, \"gridcolor\": \"white\", \"linecolor\": \"white\", \"ticks\": \"\", \"title\": {\"standoff\": 15}, \"zerolinecolor\": \"white\", \"zerolinewidth\": 2}}}, \"xaxis\": {\"anchor\": \"y\", \"domain\": [0.0, 1.0], \"title\": {\"text\": \"FECHA_VACUNACION_dt\"}}, \"yaxis\": {\"anchor\": \"x\", \"domain\": [0.0, 1.0], \"title\": {\"text\": \"UUID\"}}},                        {\"responsive\": true}                    ).then(function(){\n",
       "                            \n",
       "var gd = document.getElementById('fff5b034-a0f6-4eed-b0ae-536105b4c5a4');\n",
       "var x = new MutationObserver(function (mutations, observer) {{\n",
       "        var display = window.getComputedStyle(gd).display;\n",
       "        if (!display || display === 'none') {{\n",
       "            console.log([gd, 'removed!']);\n",
       "            Plotly.purge(gd);\n",
       "            observer.disconnect();\n",
       "        }}\n",
       "}});\n",
       "\n",
       "// Listen for the removal of the full notebook cells\n",
       "var notebookContainer = gd.closest('#notebook-container');\n",
       "if (notebookContainer) {{\n",
       "    x.observe(notebookContainer, {childList: true});\n",
       "}}\n",
       "\n",
       "// Listen for the clearing of the current output cell\n",
       "var outputEl = gd.closest('.output');\n",
       "if (outputEl) {{\n",
       "    x.observe(outputEl, {childList: true});\n",
       "}}\n",
       "\n",
       "                        })                };                });            </script>        </div>"
      ]
     },
     "metadata": {},
     "output_type": "display_data"
    }
   ],
   "source": [
    "import plotly.express as px\n",
    "\n",
    "fig = px.bar(vacunas_df, x=\"FECHA_VACUNACION_dt\", y=\"UUID\", color=\"DOSIS\")\n",
    "fig.show()"
   ]
  },
  {
   "cell_type": "code",
   "execution_count": 32,
   "metadata": {},
   "outputs": [],
   "source": [
    "vacunas_df.to_csv(join(ruta,'vacunas_timeline_dosis.csv'),index=False)"
   ]
  },
  {
   "cell_type": "markdown",
   "metadata": {},
   "source": [
    "## AGRUPACION POR GRUPO ETARIO"
   ]
  },
  {
   "cell_type": "code",
   "execution_count": 43,
   "metadata": {},
   "outputs": [],
   "source": [
    "def getGrupoEtario(edad):\n",
    "    if(edad==np.nan):\n",
    "        return 'otro'\n",
    "    if(edad>=80):\n",
    "        return '[80,Mas>'\n",
    "    if(edad>=75):\n",
    "        return '[75,80>'\n",
    "    if(edad>=70):\n",
    "        return '[70,75>'\n",
    "    if(edad>=65):\n",
    "        return '[65,70>'\n",
    "    if(edad>=60):\n",
    "        return '[60,65>'\n",
    "    return 'otro'\n",
    "vacunas['grupo_etario'] = vacunas['EDAD'].apply(getGrupoEtario)"
   ]
  },
  {
   "cell_type": "code",
   "execution_count": 44,
   "metadata": {},
   "outputs": [
    {
     "data": {
      "text/html": [
       "<div>\n",
       "<style scoped>\n",
       "    .dataframe tbody tr th:only-of-type {\n",
       "        vertical-align: middle;\n",
       "    }\n",
       "\n",
       "    .dataframe tbody tr th {\n",
       "        vertical-align: top;\n",
       "    }\n",
       "\n",
       "    .dataframe thead th {\n",
       "        text-align: right;\n",
       "    }\n",
       "</style>\n",
       "<table border=\"1\" class=\"dataframe\">\n",
       "  <thead>\n",
       "    <tr style=\"text-align: right;\">\n",
       "      <th></th>\n",
       "      <th>UUID</th>\n",
       "      <th>GRUPO_RIESGO</th>\n",
       "      <th>EDAD</th>\n",
       "      <th>SEXO</th>\n",
       "      <th>FECHA_VACUNACION</th>\n",
       "      <th>DOSIS</th>\n",
       "      <th>FABRICANTE</th>\n",
       "      <th>DIRESA</th>\n",
       "      <th>DEPARTAMENTO</th>\n",
       "      <th>PROVINCIA</th>\n",
       "      <th>DISTRITO</th>\n",
       "      <th>FECHA_VACUNACION_dt</th>\n",
       "      <th>grupo_etario</th>\n",
       "    </tr>\n",
       "  </thead>\n",
       "  <tbody>\n",
       "    <tr>\n",
       "      <th>0</th>\n",
       "      <td>04cd9264959046894f4235d5c8b62794</td>\n",
       "      <td>PERSONAL DE SALUD</td>\n",
       "      <td>NaN</td>\n",
       "      <td>MASCULINO</td>\n",
       "      <td>20210222</td>\n",
       "      <td>1</td>\n",
       "      <td>SINOPHARM</td>\n",
       "      <td>LIMA CENTRO</td>\n",
       "      <td>LIMA</td>\n",
       "      <td>LIMA</td>\n",
       "      <td>LA VICTORIA</td>\n",
       "      <td>2021-02-22</td>\n",
       "      <td>otro</td>\n",
       "    </tr>\n",
       "    <tr>\n",
       "      <th>1</th>\n",
       "      <td>14fd8ec748ba82a72a4c5556ee8e6372</td>\n",
       "      <td>PERSONAL DE SALUD</td>\n",
       "      <td>NaN</td>\n",
       "      <td>MASCULINO</td>\n",
       "      <td>20210310</td>\n",
       "      <td>1</td>\n",
       "      <td>SINOPHARM</td>\n",
       "      <td>LA LIBERTAD</td>\n",
       "      <td>LA LIBERTAD</td>\n",
       "      <td>TRUJILLO</td>\n",
       "      <td>VICTOR LARCO HERRERA</td>\n",
       "      <td>2021-03-10</td>\n",
       "      <td>otro</td>\n",
       "    </tr>\n",
       "    <tr>\n",
       "      <th>2</th>\n",
       "      <td>b17ceddbbde5df1c082e09dc076421fb</td>\n",
       "      <td>PERSONAL DE SALUD</td>\n",
       "      <td>NaN</td>\n",
       "      <td>MASCULINO</td>\n",
       "      <td>20210227</td>\n",
       "      <td>1</td>\n",
       "      <td>SINOPHARM</td>\n",
       "      <td>HUANUCO</td>\n",
       "      <td>HUANUCO</td>\n",
       "      <td>LEONCIO PRADO</td>\n",
       "      <td>RUPA-RUPA</td>\n",
       "      <td>2021-02-27</td>\n",
       "      <td>otro</td>\n",
       "    </tr>\n",
       "    <tr>\n",
       "      <th>3</th>\n",
       "      <td>e5e67a589a53167d365e3de4373c419d</td>\n",
       "      <td>ADULTO MAYOR</td>\n",
       "      <td>NaN</td>\n",
       "      <td>FEMENINO</td>\n",
       "      <td>20210417</td>\n",
       "      <td>1</td>\n",
       "      <td>PFIZER</td>\n",
       "      <td>LIMA SUR</td>\n",
       "      <td>LIMA</td>\n",
       "      <td>LIMA</td>\n",
       "      <td>CHORRILLOS</td>\n",
       "      <td>2021-04-17</td>\n",
       "      <td>otro</td>\n",
       "    </tr>\n",
       "    <tr>\n",
       "      <th>4</th>\n",
       "      <td>103ae79bc8e63d82e78c754ae5c78e75</td>\n",
       "      <td>ADULTO MAYOR</td>\n",
       "      <td>81.0</td>\n",
       "      <td>FEMENINO</td>\n",
       "      <td>20210422</td>\n",
       "      <td>1</td>\n",
       "      <td>ASTRAZENECA</td>\n",
       "      <td>UCAYALI</td>\n",
       "      <td>UCAYALI</td>\n",
       "      <td>CORONEL PORTILLO</td>\n",
       "      <td>CALLERIA</td>\n",
       "      <td>2021-04-22</td>\n",
       "      <td>[80,Mas&gt;</td>\n",
       "    </tr>\n",
       "    <tr>\n",
       "      <th>...</th>\n",
       "      <td>...</td>\n",
       "      <td>...</td>\n",
       "      <td>...</td>\n",
       "      <td>...</td>\n",
       "      <td>...</td>\n",
       "      <td>...</td>\n",
       "      <td>...</td>\n",
       "      <td>...</td>\n",
       "      <td>...</td>\n",
       "      <td>...</td>\n",
       "      <td>...</td>\n",
       "      <td>...</td>\n",
       "      <td>...</td>\n",
       "    </tr>\n",
       "    <tr>\n",
       "      <th>3020172</th>\n",
       "      <td>b4ee21f5c2f78bb163e4e645ab1b6373</td>\n",
       "      <td>PERSONAL DE SALUD</td>\n",
       "      <td>31.0</td>\n",
       "      <td>MASCULINO</td>\n",
       "      <td>20210225</td>\n",
       "      <td>1</td>\n",
       "      <td>SINOPHARM</td>\n",
       "      <td>LIMA CENTRO</td>\n",
       "      <td>LIMA</td>\n",
       "      <td>LIMA</td>\n",
       "      <td>MAGDALENA DEL MAR</td>\n",
       "      <td>2021-02-25</td>\n",
       "      <td>otro</td>\n",
       "    </tr>\n",
       "    <tr>\n",
       "      <th>3020173</th>\n",
       "      <td>05f18908536fcbf526210efa198e1aa5</td>\n",
       "      <td>PERSONAL DE SALUD</td>\n",
       "      <td>30.0</td>\n",
       "      <td>FEMENINO</td>\n",
       "      <td>20210225</td>\n",
       "      <td>1</td>\n",
       "      <td>SINOPHARM</td>\n",
       "      <td>LIMA CENTRO</td>\n",
       "      <td>LIMA</td>\n",
       "      <td>LIMA</td>\n",
       "      <td>MAGDALENA DEL MAR</td>\n",
       "      <td>2021-02-25</td>\n",
       "      <td>otro</td>\n",
       "    </tr>\n",
       "    <tr>\n",
       "      <th>3020174</th>\n",
       "      <td>7e35f5777815eb8c474483c3270c6aa5</td>\n",
       "      <td>PERSONAL DE SALUD</td>\n",
       "      <td>22.0</td>\n",
       "      <td>MASCULINO</td>\n",
       "      <td>20210225</td>\n",
       "      <td>1</td>\n",
       "      <td>SINOPHARM</td>\n",
       "      <td>LIMA CENTRO</td>\n",
       "      <td>LIMA</td>\n",
       "      <td>LIMA</td>\n",
       "      <td>MAGDALENA DEL MAR</td>\n",
       "      <td>2021-02-25</td>\n",
       "      <td>otro</td>\n",
       "    </tr>\n",
       "    <tr>\n",
       "      <th>3020175</th>\n",
       "      <td>dad115c390dd0af157002a555e6013e4</td>\n",
       "      <td>PERSONAL DE SALUD</td>\n",
       "      <td>22.0</td>\n",
       "      <td>MASCULINO</td>\n",
       "      <td>20210225</td>\n",
       "      <td>1</td>\n",
       "      <td>SINOPHARM</td>\n",
       "      <td>LIMA CENTRO</td>\n",
       "      <td>LIMA</td>\n",
       "      <td>LIMA</td>\n",
       "      <td>MAGDALENA DEL MAR</td>\n",
       "      <td>2021-02-25</td>\n",
       "      <td>otro</td>\n",
       "    </tr>\n",
       "    <tr>\n",
       "      <th>3020176</th>\n",
       "      <td>05ea529a3aaa3d4e420b826bc3b5250c</td>\n",
       "      <td>ADULTO MAYOR</td>\n",
       "      <td>70.0</td>\n",
       "      <td>FEMENINO</td>\n",
       "      <td>20210429</td>\n",
       "      <td>1</td>\n",
       "      <td>ASTRAZENECA</td>\n",
       "      <td>HUANUCO</td>\n",
       "      <td>HUANUCO</td>\n",
       "      <td>HUAMALIES</td>\n",
       "      <td>LLATA</td>\n",
       "      <td>2021-04-29</td>\n",
       "      <td>[70,75&gt;</td>\n",
       "    </tr>\n",
       "  </tbody>\n",
       "</table>\n",
       "<p>3020177 rows × 13 columns</p>\n",
       "</div>"
      ],
      "text/plain": [
       "                                     UUID       GRUPO_RIESGO  EDAD       SEXO  \\\n",
       "0        04cd9264959046894f4235d5c8b62794  PERSONAL DE SALUD   NaN  MASCULINO   \n",
       "1        14fd8ec748ba82a72a4c5556ee8e6372  PERSONAL DE SALUD   NaN  MASCULINO   \n",
       "2        b17ceddbbde5df1c082e09dc076421fb  PERSONAL DE SALUD   NaN  MASCULINO   \n",
       "3        e5e67a589a53167d365e3de4373c419d       ADULTO MAYOR   NaN   FEMENINO   \n",
       "4        103ae79bc8e63d82e78c754ae5c78e75       ADULTO MAYOR  81.0   FEMENINO   \n",
       "...                                   ...                ...   ...        ...   \n",
       "3020172  b4ee21f5c2f78bb163e4e645ab1b6373  PERSONAL DE SALUD  31.0  MASCULINO   \n",
       "3020173  05f18908536fcbf526210efa198e1aa5  PERSONAL DE SALUD  30.0   FEMENINO   \n",
       "3020174  7e35f5777815eb8c474483c3270c6aa5  PERSONAL DE SALUD  22.0  MASCULINO   \n",
       "3020175  dad115c390dd0af157002a555e6013e4  PERSONAL DE SALUD  22.0  MASCULINO   \n",
       "3020176  05ea529a3aaa3d4e420b826bc3b5250c       ADULTO MAYOR  70.0   FEMENINO   \n",
       "\n",
       "         FECHA_VACUNACION DOSIS   FABRICANTE       DIRESA DEPARTAMENTO  \\\n",
       "0                20210222     1    SINOPHARM  LIMA CENTRO         LIMA   \n",
       "1                20210310     1    SINOPHARM  LA LIBERTAD  LA LIBERTAD   \n",
       "2                20210227     1    SINOPHARM      HUANUCO      HUANUCO   \n",
       "3                20210417     1       PFIZER     LIMA SUR         LIMA   \n",
       "4                20210422     1  ASTRAZENECA      UCAYALI      UCAYALI   \n",
       "...                   ...   ...          ...          ...          ...   \n",
       "3020172          20210225     1    SINOPHARM  LIMA CENTRO         LIMA   \n",
       "3020173          20210225     1    SINOPHARM  LIMA CENTRO         LIMA   \n",
       "3020174          20210225     1    SINOPHARM  LIMA CENTRO         LIMA   \n",
       "3020175          20210225     1    SINOPHARM  LIMA CENTRO         LIMA   \n",
       "3020176          20210429     1  ASTRAZENECA      HUANUCO      HUANUCO   \n",
       "\n",
       "                PROVINCIA              DISTRITO FECHA_VACUNACION_dt  \\\n",
       "0                    LIMA           LA VICTORIA          2021-02-22   \n",
       "1                TRUJILLO  VICTOR LARCO HERRERA          2021-03-10   \n",
       "2           LEONCIO PRADO             RUPA-RUPA          2021-02-27   \n",
       "3                    LIMA            CHORRILLOS          2021-04-17   \n",
       "4        CORONEL PORTILLO              CALLERIA          2021-04-22   \n",
       "...                   ...                   ...                 ...   \n",
       "3020172              LIMA     MAGDALENA DEL MAR          2021-02-25   \n",
       "3020173              LIMA     MAGDALENA DEL MAR          2021-02-25   \n",
       "3020174              LIMA     MAGDALENA DEL MAR          2021-02-25   \n",
       "3020175              LIMA     MAGDALENA DEL MAR          2021-02-25   \n",
       "3020176         HUAMALIES                 LLATA          2021-04-29   \n",
       "\n",
       "        grupo_etario  \n",
       "0               otro  \n",
       "1               otro  \n",
       "2               otro  \n",
       "3               otro  \n",
       "4           [80,Mas>  \n",
       "...              ...  \n",
       "3020172         otro  \n",
       "3020173         otro  \n",
       "3020174         otro  \n",
       "3020175         otro  \n",
       "3020176      [70,75>  \n",
       "\n",
       "[3020177 rows x 13 columns]"
      ]
     },
     "execution_count": 44,
     "metadata": {},
     "output_type": "execute_result"
    }
   ],
   "source": [
    "vacunas"
   ]
  },
  {
   "cell_type": "code",
   "execution_count": 58,
   "metadata": {},
   "outputs": [
    {
     "data": {
      "text/html": [
       "<div>\n",
       "<style scoped>\n",
       "    .dataframe tbody tr th:only-of-type {\n",
       "        vertical-align: middle;\n",
       "    }\n",
       "\n",
       "    .dataframe tbody tr th {\n",
       "        vertical-align: top;\n",
       "    }\n",
       "\n",
       "    .dataframe thead th {\n",
       "        text-align: right;\n",
       "    }\n",
       "</style>\n",
       "<table border=\"1\" class=\"dataframe\">\n",
       "  <thead>\n",
       "    <tr style=\"text-align: right;\">\n",
       "      <th></th>\n",
       "      <th>grupo_etario</th>\n",
       "      <th>dosis_aplicadas_1</th>\n",
       "    </tr>\n",
       "  </thead>\n",
       "  <tbody>\n",
       "    <tr>\n",
       "      <th>0</th>\n",
       "      <td>[60,65&gt;</td>\n",
       "      <td>84183</td>\n",
       "    </tr>\n",
       "    <tr>\n",
       "      <th>1</th>\n",
       "      <td>[65,70&gt;</td>\n",
       "      <td>174542</td>\n",
       "    </tr>\n",
       "    <tr>\n",
       "      <th>2</th>\n",
       "      <td>[70,75&gt;</td>\n",
       "      <td>439304</td>\n",
       "    </tr>\n",
       "    <tr>\n",
       "      <th>3</th>\n",
       "      <td>[75,80&gt;</td>\n",
       "      <td>312545</td>\n",
       "    </tr>\n",
       "    <tr>\n",
       "      <th>4</th>\n",
       "      <td>[80,Mas&gt;</td>\n",
       "      <td>385272</td>\n",
       "    </tr>\n",
       "  </tbody>\n",
       "</table>\n",
       "</div>"
      ],
      "text/plain": [
       "  grupo_etario  dosis_aplicadas_1\n",
       "0      [60,65>              84183\n",
       "1      [65,70>             174542\n",
       "2      [70,75>             439304\n",
       "3      [75,80>             312545\n",
       "4     [80,Mas>             385272"
      ]
     },
     "execution_count": 58,
     "metadata": {},
     "output_type": "execute_result"
    }
   ],
   "source": [
    "vacunas_etario_df_1 = vacunas[vacunas['DOSIS']=='1'].groupby(['grupo_etario']).count()['UUID'].reset_index()\n",
    "vacunas_etario_df_1.rename(columns ={'UUID':'dosis_aplicadas_1'},inplace=True)\n",
    "vacunas_etario_df_1.head()"
   ]
  },
  {
   "cell_type": "code",
   "execution_count": 57,
   "metadata": {},
   "outputs": [
    {
     "data": {
      "text/html": [
       "<div>\n",
       "<style scoped>\n",
       "    .dataframe tbody tr th:only-of-type {\n",
       "        vertical-align: middle;\n",
       "    }\n",
       "\n",
       "    .dataframe tbody tr th {\n",
       "        vertical-align: top;\n",
       "    }\n",
       "\n",
       "    .dataframe thead th {\n",
       "        text-align: right;\n",
       "    }\n",
       "</style>\n",
       "<table border=\"1\" class=\"dataframe\">\n",
       "  <thead>\n",
       "    <tr style=\"text-align: right;\">\n",
       "      <th></th>\n",
       "      <th>grupo_etario</th>\n",
       "      <th>dosis_aplicadas_2</th>\n",
       "    </tr>\n",
       "  </thead>\n",
       "  <tbody>\n",
       "    <tr>\n",
       "      <th>0</th>\n",
       "      <td>[60,65&gt;</td>\n",
       "      <td>32615</td>\n",
       "    </tr>\n",
       "    <tr>\n",
       "      <th>1</th>\n",
       "      <td>[65,70&gt;</td>\n",
       "      <td>26060</td>\n",
       "    </tr>\n",
       "    <tr>\n",
       "      <th>2</th>\n",
       "      <td>[70,75&gt;</td>\n",
       "      <td>28286</td>\n",
       "    </tr>\n",
       "    <tr>\n",
       "      <th>3</th>\n",
       "      <td>[75,80&gt;</td>\n",
       "      <td>30853</td>\n",
       "    </tr>\n",
       "    <tr>\n",
       "      <th>4</th>\n",
       "      <td>[80,Mas&gt;</td>\n",
       "      <td>172984</td>\n",
       "    </tr>\n",
       "  </tbody>\n",
       "</table>\n",
       "</div>"
      ],
      "text/plain": [
       "  grupo_etario  dosis_aplicadas_2\n",
       "0      [60,65>              32615\n",
       "1      [65,70>              26060\n",
       "2      [70,75>              28286\n",
       "3      [75,80>              30853\n",
       "4     [80,Mas>             172984"
      ]
     },
     "execution_count": 57,
     "metadata": {},
     "output_type": "execute_result"
    }
   ],
   "source": [
    "vacunas_etario_df_2 = vacunas[vacunas['DOSIS']=='2'].groupby(['grupo_etario']).count()['UUID'].reset_index().rename({'UUID':'dosis_aplicadas_2'})\n",
    "vacunas_etario_df_2.rename(columns ={'UUID':'dosis_aplicadas_2'},inplace=True)\n",
    "vacunas_etario_df_2.head()"
   ]
  },
  {
   "cell_type": "code",
   "execution_count": 62,
   "metadata": {},
   "outputs": [
    {
     "name": "stdout",
     "output_type": "stream",
     "text": [
      "  grupo_etario  hombres  mujeres  pob_total\n",
      "0     [80,Mas>   245356   319951     565307\n",
      "1      [75,80>   233072   268103     501175\n",
      "2      [70,75>   329455   359384     688839\n",
      "3      [65,70>   471540   501930     973470\n",
      "4      [60,65>   587677   610609    1198286\n"
     ]
    }
   ],
   "source": [
    "poblacion_etario = pd.read_csv(join(ruta,'poblacion_grupoetario.csv'),sep=';',encoding='latin1').rename(columns ={'ï»¿grupo_etario':'grupo_etario'})\n",
    "print(poblacion_etario.head())"
   ]
  },
  {
   "cell_type": "code",
   "execution_count": 63,
   "metadata": {},
   "outputs": [
    {
     "data": {
      "text/html": [
       "<div>\n",
       "<style scoped>\n",
       "    .dataframe tbody tr th:only-of-type {\n",
       "        vertical-align: middle;\n",
       "    }\n",
       "\n",
       "    .dataframe tbody tr th {\n",
       "        vertical-align: top;\n",
       "    }\n",
       "\n",
       "    .dataframe thead th {\n",
       "        text-align: right;\n",
       "    }\n",
       "</style>\n",
       "<table border=\"1\" class=\"dataframe\">\n",
       "  <thead>\n",
       "    <tr style=\"text-align: right;\">\n",
       "      <th></th>\n",
       "      <th>grupo_etario</th>\n",
       "      <th>hombres</th>\n",
       "      <th>mujeres</th>\n",
       "      <th>pob_total</th>\n",
       "      <th>dosis_aplicadas_1</th>\n",
       "    </tr>\n",
       "  </thead>\n",
       "  <tbody>\n",
       "    <tr>\n",
       "      <th>0</th>\n",
       "      <td>[80,Mas&gt;</td>\n",
       "      <td>245356</td>\n",
       "      <td>319951</td>\n",
       "      <td>565307</td>\n",
       "      <td>385272</td>\n",
       "    </tr>\n",
       "    <tr>\n",
       "      <th>1</th>\n",
       "      <td>[75,80&gt;</td>\n",
       "      <td>233072</td>\n",
       "      <td>268103</td>\n",
       "      <td>501175</td>\n",
       "      <td>312545</td>\n",
       "    </tr>\n",
       "    <tr>\n",
       "      <th>2</th>\n",
       "      <td>[70,75&gt;</td>\n",
       "      <td>329455</td>\n",
       "      <td>359384</td>\n",
       "      <td>688839</td>\n",
       "      <td>439304</td>\n",
       "    </tr>\n",
       "    <tr>\n",
       "      <th>3</th>\n",
       "      <td>[65,70&gt;</td>\n",
       "      <td>471540</td>\n",
       "      <td>501930</td>\n",
       "      <td>973470</td>\n",
       "      <td>174542</td>\n",
       "    </tr>\n",
       "    <tr>\n",
       "      <th>4</th>\n",
       "      <td>[60,65&gt;</td>\n",
       "      <td>587677</td>\n",
       "      <td>610609</td>\n",
       "      <td>1198286</td>\n",
       "      <td>84183</td>\n",
       "    </tr>\n",
       "  </tbody>\n",
       "</table>\n",
       "</div>"
      ],
      "text/plain": [
       "  grupo_etario  hombres  mujeres  pob_total  dosis_aplicadas_1\n",
       "0     [80,Mas>   245356   319951     565307             385272\n",
       "1      [75,80>   233072   268103     501175             312545\n",
       "2      [70,75>   329455   359384     688839             439304\n",
       "3      [65,70>   471540   501930     973470             174542\n",
       "4      [60,65>   587677   610609    1198286              84183"
      ]
     },
     "execution_count": 63,
     "metadata": {},
     "output_type": "execute_result"
    }
   ],
   "source": [
    "poblacion_etario_2 = pd.merge(poblacion_etario,vacunas_etario_df_1,how='left',left_on='grupo_etario', right_on='grupo_etario')\n",
    "poblacion_etario_2"
   ]
  },
  {
   "cell_type": "code",
   "execution_count": 64,
   "metadata": {},
   "outputs": [
    {
     "data": {
      "text/html": [
       "<div>\n",
       "<style scoped>\n",
       "    .dataframe tbody tr th:only-of-type {\n",
       "        vertical-align: middle;\n",
       "    }\n",
       "\n",
       "    .dataframe tbody tr th {\n",
       "        vertical-align: top;\n",
       "    }\n",
       "\n",
       "    .dataframe thead th {\n",
       "        text-align: right;\n",
       "    }\n",
       "</style>\n",
       "<table border=\"1\" class=\"dataframe\">\n",
       "  <thead>\n",
       "    <tr style=\"text-align: right;\">\n",
       "      <th></th>\n",
       "      <th>grupo_etario</th>\n",
       "      <th>hombres</th>\n",
       "      <th>mujeres</th>\n",
       "      <th>pob_total</th>\n",
       "      <th>dosis_aplicadas_1</th>\n",
       "      <th>dosis_aplicadas_2</th>\n",
       "    </tr>\n",
       "  </thead>\n",
       "  <tbody>\n",
       "    <tr>\n",
       "      <th>0</th>\n",
       "      <td>[80,Mas&gt;</td>\n",
       "      <td>245356</td>\n",
       "      <td>319951</td>\n",
       "      <td>565307</td>\n",
       "      <td>385272</td>\n",
       "      <td>172984</td>\n",
       "    </tr>\n",
       "    <tr>\n",
       "      <th>1</th>\n",
       "      <td>[75,80&gt;</td>\n",
       "      <td>233072</td>\n",
       "      <td>268103</td>\n",
       "      <td>501175</td>\n",
       "      <td>312545</td>\n",
       "      <td>30853</td>\n",
       "    </tr>\n",
       "    <tr>\n",
       "      <th>2</th>\n",
       "      <td>[70,75&gt;</td>\n",
       "      <td>329455</td>\n",
       "      <td>359384</td>\n",
       "      <td>688839</td>\n",
       "      <td>439304</td>\n",
       "      <td>28286</td>\n",
       "    </tr>\n",
       "    <tr>\n",
       "      <th>3</th>\n",
       "      <td>[65,70&gt;</td>\n",
       "      <td>471540</td>\n",
       "      <td>501930</td>\n",
       "      <td>973470</td>\n",
       "      <td>174542</td>\n",
       "      <td>26060</td>\n",
       "    </tr>\n",
       "    <tr>\n",
       "      <th>4</th>\n",
       "      <td>[60,65&gt;</td>\n",
       "      <td>587677</td>\n",
       "      <td>610609</td>\n",
       "      <td>1198286</td>\n",
       "      <td>84183</td>\n",
       "      <td>32615</td>\n",
       "    </tr>\n",
       "  </tbody>\n",
       "</table>\n",
       "</div>"
      ],
      "text/plain": [
       "  grupo_etario  hombres  mujeres  pob_total  dosis_aplicadas_1  \\\n",
       "0     [80,Mas>   245356   319951     565307             385272   \n",
       "1      [75,80>   233072   268103     501175             312545   \n",
       "2      [70,75>   329455   359384     688839             439304   \n",
       "3      [65,70>   471540   501930     973470             174542   \n",
       "4      [60,65>   587677   610609    1198286              84183   \n",
       "\n",
       "   dosis_aplicadas_2  \n",
       "0             172984  \n",
       "1              30853  \n",
       "2              28286  \n",
       "3              26060  \n",
       "4              32615  "
      ]
     },
     "execution_count": 64,
     "metadata": {},
     "output_type": "execute_result"
    }
   ],
   "source": [
    "poblacion_etario_3 = pd.merge(poblacion_etario_2,vacunas_etario_df_2,how='left',left_on='grupo_etario', right_on='grupo_etario')\n",
    "poblacion_etario_3"
   ]
  },
  {
   "cell_type": "code",
   "execution_count": 65,
   "metadata": {},
   "outputs": [
    {
     "data": {
      "text/html": [
       "<div>\n",
       "<style scoped>\n",
       "    .dataframe tbody tr th:only-of-type {\n",
       "        vertical-align: middle;\n",
       "    }\n",
       "\n",
       "    .dataframe tbody tr th {\n",
       "        vertical-align: top;\n",
       "    }\n",
       "\n",
       "    .dataframe thead th {\n",
       "        text-align: right;\n",
       "    }\n",
       "</style>\n",
       "<table border=\"1\" class=\"dataframe\">\n",
       "  <thead>\n",
       "    <tr style=\"text-align: right;\">\n",
       "      <th></th>\n",
       "      <th>grupo_etario</th>\n",
       "      <th>hombres</th>\n",
       "      <th>mujeres</th>\n",
       "      <th>pob_total</th>\n",
       "      <th>dosis_aplicadas_1</th>\n",
       "      <th>dosis_aplicadas_2</th>\n",
       "      <th>solo_dosis_1</th>\n",
       "      <th>ambas_dosis</th>\n",
       "      <th>ninguna_dosis</th>\n",
       "    </tr>\n",
       "  </thead>\n",
       "  <tbody>\n",
       "    <tr>\n",
       "      <th>0</th>\n",
       "      <td>[80,Mas&gt;</td>\n",
       "      <td>245356</td>\n",
       "      <td>319951</td>\n",
       "      <td>565307</td>\n",
       "      <td>385272</td>\n",
       "      <td>172984</td>\n",
       "      <td>212288</td>\n",
       "      <td>172984</td>\n",
       "      <td>180035</td>\n",
       "    </tr>\n",
       "    <tr>\n",
       "      <th>1</th>\n",
       "      <td>[75,80&gt;</td>\n",
       "      <td>233072</td>\n",
       "      <td>268103</td>\n",
       "      <td>501175</td>\n",
       "      <td>312545</td>\n",
       "      <td>30853</td>\n",
       "      <td>281692</td>\n",
       "      <td>30853</td>\n",
       "      <td>188630</td>\n",
       "    </tr>\n",
       "    <tr>\n",
       "      <th>2</th>\n",
       "      <td>[70,75&gt;</td>\n",
       "      <td>329455</td>\n",
       "      <td>359384</td>\n",
       "      <td>688839</td>\n",
       "      <td>439304</td>\n",
       "      <td>28286</td>\n",
       "      <td>411018</td>\n",
       "      <td>28286</td>\n",
       "      <td>249535</td>\n",
       "    </tr>\n",
       "    <tr>\n",
       "      <th>3</th>\n",
       "      <td>[65,70&gt;</td>\n",
       "      <td>471540</td>\n",
       "      <td>501930</td>\n",
       "      <td>973470</td>\n",
       "      <td>174542</td>\n",
       "      <td>26060</td>\n",
       "      <td>148482</td>\n",
       "      <td>26060</td>\n",
       "      <td>798928</td>\n",
       "    </tr>\n",
       "    <tr>\n",
       "      <th>4</th>\n",
       "      <td>[60,65&gt;</td>\n",
       "      <td>587677</td>\n",
       "      <td>610609</td>\n",
       "      <td>1198286</td>\n",
       "      <td>84183</td>\n",
       "      <td>32615</td>\n",
       "      <td>51568</td>\n",
       "      <td>32615</td>\n",
       "      <td>1114103</td>\n",
       "    </tr>\n",
       "  </tbody>\n",
       "</table>\n",
       "</div>"
      ],
      "text/plain": [
       "  grupo_etario  hombres  mujeres  pob_total  dosis_aplicadas_1  \\\n",
       "0     [80,Mas>   245356   319951     565307             385272   \n",
       "1      [75,80>   233072   268103     501175             312545   \n",
       "2      [70,75>   329455   359384     688839             439304   \n",
       "3      [65,70>   471540   501930     973470             174542   \n",
       "4      [60,65>   587677   610609    1198286              84183   \n",
       "\n",
       "   dosis_aplicadas_2  solo_dosis_1  ambas_dosis  ninguna_dosis  \n",
       "0             172984        212288       172984         180035  \n",
       "1              30853        281692        30853         188630  \n",
       "2              28286        411018        28286         249535  \n",
       "3              26060        148482        26060         798928  \n",
       "4              32615         51568        32615        1114103  "
      ]
     },
     "execution_count": 65,
     "metadata": {},
     "output_type": "execute_result"
    }
   ],
   "source": [
    "poblacion_etario_3['solo_dosis_1'] = poblacion_etario_3['dosis_aplicadas_1']-poblacion_etario_3['dosis_aplicadas_2']\n",
    "poblacion_etario_3['ambas_dosis'] = poblacion_etario_3['dosis_aplicadas_2']\n",
    "poblacion_etario_3['ninguna_dosis'] = poblacion_etario_3['pob_total']-poblacion_etario_3['dosis_aplicadas_1']\n",
    "poblacion_etario_3"
   ]
  },
  {
   "cell_type": "code",
   "execution_count": 67,
   "metadata": {},
   "outputs": [],
   "source": [
    "poblacion_etario_3.to_csv(join(ruta,'poblacion_etario_vacunas.csv'),index=False)"
   ]
  },
  {
   "cell_type": "code",
   "execution_count": 69,
   "metadata": {},
   "outputs": [],
   "source": [
    "poblacion_etario_3.sort_values('grupo_etario',inplace=True)"
   ]
  },
  {
   "cell_type": "code",
   "execution_count": 70,
   "metadata": {},
   "outputs": [
    {
     "data": {
      "application/vnd.plotly.v1+json": {
       "config": {
        "plotlyServerURL": "https://plot.ly"
       },
       "data": [
        {
         "alignmentgroup": "True",
         "hovertemplate": "variable=ambas_dosis<br>grupo_etario=%{x}<br>value=%{y}<extra></extra>",
         "legendgroup": "ambas_dosis",
         "marker": {
          "color": "#636efa"
         },
         "name": "ambas_dosis",
         "offsetgroup": "ambas_dosis",
         "orientation": "v",
         "showlegend": true,
         "textposition": "auto",
         "type": "bar",
         "x": [
          "[60,65>",
          "[65,70>",
          "[70,75>",
          "[75,80>",
          "[80,Mas>"
         ],
         "xaxis": "x",
         "y": [
          32615,
          26060,
          28286,
          30853,
          172984
         ],
         "yaxis": "y"
        },
        {
         "alignmentgroup": "True",
         "hovertemplate": "variable=solo_dosis_1<br>grupo_etario=%{x}<br>value=%{y}<extra></extra>",
         "legendgroup": "solo_dosis_1",
         "marker": {
          "color": "#EF553B"
         },
         "name": "solo_dosis_1",
         "offsetgroup": "solo_dosis_1",
         "orientation": "v",
         "showlegend": true,
         "textposition": "auto",
         "type": "bar",
         "x": [
          "[60,65>",
          "[65,70>",
          "[70,75>",
          "[75,80>",
          "[80,Mas>"
         ],
         "xaxis": "x",
         "y": [
          51568,
          148482,
          411018,
          281692,
          212288
         ],
         "yaxis": "y"
        },
        {
         "alignmentgroup": "True",
         "hovertemplate": "variable=ninguna_dosis<br>grupo_etario=%{x}<br>value=%{y}<extra></extra>",
         "legendgroup": "ninguna_dosis",
         "marker": {
          "color": "#00cc96"
         },
         "name": "ninguna_dosis",
         "offsetgroup": "ninguna_dosis",
         "orientation": "v",
         "showlegend": true,
         "textposition": "auto",
         "type": "bar",
         "x": [
          "[60,65>",
          "[65,70>",
          "[70,75>",
          "[75,80>",
          "[80,Mas>"
         ],
         "xaxis": "x",
         "y": [
          1114103,
          798928,
          249535,
          188630,
          180035
         ],
         "yaxis": "y"
        }
       ],
       "layout": {
        "barmode": "relative",
        "legend": {
         "title": {
          "text": "variable"
         },
         "tracegroupgap": 0
        },
        "template": {
         "data": {
          "bar": [
           {
            "error_x": {
             "color": "#2a3f5f"
            },
            "error_y": {
             "color": "#2a3f5f"
            },
            "marker": {
             "line": {
              "color": "#E5ECF6",
              "width": 0.5
             }
            },
            "type": "bar"
           }
          ],
          "barpolar": [
           {
            "marker": {
             "line": {
              "color": "#E5ECF6",
              "width": 0.5
             }
            },
            "type": "barpolar"
           }
          ],
          "carpet": [
           {
            "aaxis": {
             "endlinecolor": "#2a3f5f",
             "gridcolor": "white",
             "linecolor": "white",
             "minorgridcolor": "white",
             "startlinecolor": "#2a3f5f"
            },
            "baxis": {
             "endlinecolor": "#2a3f5f",
             "gridcolor": "white",
             "linecolor": "white",
             "minorgridcolor": "white",
             "startlinecolor": "#2a3f5f"
            },
            "type": "carpet"
           }
          ],
          "choropleth": [
           {
            "colorbar": {
             "outlinewidth": 0,
             "ticks": ""
            },
            "type": "choropleth"
           }
          ],
          "contour": [
           {
            "colorbar": {
             "outlinewidth": 0,
             "ticks": ""
            },
            "colorscale": [
             [
              0,
              "#0d0887"
             ],
             [
              0.1111111111111111,
              "#46039f"
             ],
             [
              0.2222222222222222,
              "#7201a8"
             ],
             [
              0.3333333333333333,
              "#9c179e"
             ],
             [
              0.4444444444444444,
              "#bd3786"
             ],
             [
              0.5555555555555556,
              "#d8576b"
             ],
             [
              0.6666666666666666,
              "#ed7953"
             ],
             [
              0.7777777777777778,
              "#fb9f3a"
             ],
             [
              0.8888888888888888,
              "#fdca26"
             ],
             [
              1,
              "#f0f921"
             ]
            ],
            "type": "contour"
           }
          ],
          "contourcarpet": [
           {
            "colorbar": {
             "outlinewidth": 0,
             "ticks": ""
            },
            "type": "contourcarpet"
           }
          ],
          "heatmap": [
           {
            "colorbar": {
             "outlinewidth": 0,
             "ticks": ""
            },
            "colorscale": [
             [
              0,
              "#0d0887"
             ],
             [
              0.1111111111111111,
              "#46039f"
             ],
             [
              0.2222222222222222,
              "#7201a8"
             ],
             [
              0.3333333333333333,
              "#9c179e"
             ],
             [
              0.4444444444444444,
              "#bd3786"
             ],
             [
              0.5555555555555556,
              "#d8576b"
             ],
             [
              0.6666666666666666,
              "#ed7953"
             ],
             [
              0.7777777777777778,
              "#fb9f3a"
             ],
             [
              0.8888888888888888,
              "#fdca26"
             ],
             [
              1,
              "#f0f921"
             ]
            ],
            "type": "heatmap"
           }
          ],
          "heatmapgl": [
           {
            "colorbar": {
             "outlinewidth": 0,
             "ticks": ""
            },
            "colorscale": [
             [
              0,
              "#0d0887"
             ],
             [
              0.1111111111111111,
              "#46039f"
             ],
             [
              0.2222222222222222,
              "#7201a8"
             ],
             [
              0.3333333333333333,
              "#9c179e"
             ],
             [
              0.4444444444444444,
              "#bd3786"
             ],
             [
              0.5555555555555556,
              "#d8576b"
             ],
             [
              0.6666666666666666,
              "#ed7953"
             ],
             [
              0.7777777777777778,
              "#fb9f3a"
             ],
             [
              0.8888888888888888,
              "#fdca26"
             ],
             [
              1,
              "#f0f921"
             ]
            ],
            "type": "heatmapgl"
           }
          ],
          "histogram": [
           {
            "marker": {
             "colorbar": {
              "outlinewidth": 0,
              "ticks": ""
             }
            },
            "type": "histogram"
           }
          ],
          "histogram2d": [
           {
            "colorbar": {
             "outlinewidth": 0,
             "ticks": ""
            },
            "colorscale": [
             [
              0,
              "#0d0887"
             ],
             [
              0.1111111111111111,
              "#46039f"
             ],
             [
              0.2222222222222222,
              "#7201a8"
             ],
             [
              0.3333333333333333,
              "#9c179e"
             ],
             [
              0.4444444444444444,
              "#bd3786"
             ],
             [
              0.5555555555555556,
              "#d8576b"
             ],
             [
              0.6666666666666666,
              "#ed7953"
             ],
             [
              0.7777777777777778,
              "#fb9f3a"
             ],
             [
              0.8888888888888888,
              "#fdca26"
             ],
             [
              1,
              "#f0f921"
             ]
            ],
            "type": "histogram2d"
           }
          ],
          "histogram2dcontour": [
           {
            "colorbar": {
             "outlinewidth": 0,
             "ticks": ""
            },
            "colorscale": [
             [
              0,
              "#0d0887"
             ],
             [
              0.1111111111111111,
              "#46039f"
             ],
             [
              0.2222222222222222,
              "#7201a8"
             ],
             [
              0.3333333333333333,
              "#9c179e"
             ],
             [
              0.4444444444444444,
              "#bd3786"
             ],
             [
              0.5555555555555556,
              "#d8576b"
             ],
             [
              0.6666666666666666,
              "#ed7953"
             ],
             [
              0.7777777777777778,
              "#fb9f3a"
             ],
             [
              0.8888888888888888,
              "#fdca26"
             ],
             [
              1,
              "#f0f921"
             ]
            ],
            "type": "histogram2dcontour"
           }
          ],
          "mesh3d": [
           {
            "colorbar": {
             "outlinewidth": 0,
             "ticks": ""
            },
            "type": "mesh3d"
           }
          ],
          "parcoords": [
           {
            "line": {
             "colorbar": {
              "outlinewidth": 0,
              "ticks": ""
             }
            },
            "type": "parcoords"
           }
          ],
          "pie": [
           {
            "automargin": true,
            "type": "pie"
           }
          ],
          "scatter": [
           {
            "marker": {
             "colorbar": {
              "outlinewidth": 0,
              "ticks": ""
             }
            },
            "type": "scatter"
           }
          ],
          "scatter3d": [
           {
            "line": {
             "colorbar": {
              "outlinewidth": 0,
              "ticks": ""
             }
            },
            "marker": {
             "colorbar": {
              "outlinewidth": 0,
              "ticks": ""
             }
            },
            "type": "scatter3d"
           }
          ],
          "scattercarpet": [
           {
            "marker": {
             "colorbar": {
              "outlinewidth": 0,
              "ticks": ""
             }
            },
            "type": "scattercarpet"
           }
          ],
          "scattergeo": [
           {
            "marker": {
             "colorbar": {
              "outlinewidth": 0,
              "ticks": ""
             }
            },
            "type": "scattergeo"
           }
          ],
          "scattergl": [
           {
            "marker": {
             "colorbar": {
              "outlinewidth": 0,
              "ticks": ""
             }
            },
            "type": "scattergl"
           }
          ],
          "scattermapbox": [
           {
            "marker": {
             "colorbar": {
              "outlinewidth": 0,
              "ticks": ""
             }
            },
            "type": "scattermapbox"
           }
          ],
          "scatterpolar": [
           {
            "marker": {
             "colorbar": {
              "outlinewidth": 0,
              "ticks": ""
             }
            },
            "type": "scatterpolar"
           }
          ],
          "scatterpolargl": [
           {
            "marker": {
             "colorbar": {
              "outlinewidth": 0,
              "ticks": ""
             }
            },
            "type": "scatterpolargl"
           }
          ],
          "scatterternary": [
           {
            "marker": {
             "colorbar": {
              "outlinewidth": 0,
              "ticks": ""
             }
            },
            "type": "scatterternary"
           }
          ],
          "surface": [
           {
            "colorbar": {
             "outlinewidth": 0,
             "ticks": ""
            },
            "colorscale": [
             [
              0,
              "#0d0887"
             ],
             [
              0.1111111111111111,
              "#46039f"
             ],
             [
              0.2222222222222222,
              "#7201a8"
             ],
             [
              0.3333333333333333,
              "#9c179e"
             ],
             [
              0.4444444444444444,
              "#bd3786"
             ],
             [
              0.5555555555555556,
              "#d8576b"
             ],
             [
              0.6666666666666666,
              "#ed7953"
             ],
             [
              0.7777777777777778,
              "#fb9f3a"
             ],
             [
              0.8888888888888888,
              "#fdca26"
             ],
             [
              1,
              "#f0f921"
             ]
            ],
            "type": "surface"
           }
          ],
          "table": [
           {
            "cells": {
             "fill": {
              "color": "#EBF0F8"
             },
             "line": {
              "color": "white"
             }
            },
            "header": {
             "fill": {
              "color": "#C8D4E3"
             },
             "line": {
              "color": "white"
             }
            },
            "type": "table"
           }
          ]
         },
         "layout": {
          "annotationdefaults": {
           "arrowcolor": "#2a3f5f",
           "arrowhead": 0,
           "arrowwidth": 1
          },
          "autotypenumbers": "strict",
          "coloraxis": {
           "colorbar": {
            "outlinewidth": 0,
            "ticks": ""
           }
          },
          "colorscale": {
           "diverging": [
            [
             0,
             "#8e0152"
            ],
            [
             0.1,
             "#c51b7d"
            ],
            [
             0.2,
             "#de77ae"
            ],
            [
             0.3,
             "#f1b6da"
            ],
            [
             0.4,
             "#fde0ef"
            ],
            [
             0.5,
             "#f7f7f7"
            ],
            [
             0.6,
             "#e6f5d0"
            ],
            [
             0.7,
             "#b8e186"
            ],
            [
             0.8,
             "#7fbc41"
            ],
            [
             0.9,
             "#4d9221"
            ],
            [
             1,
             "#276419"
            ]
           ],
           "sequential": [
            [
             0,
             "#0d0887"
            ],
            [
             0.1111111111111111,
             "#46039f"
            ],
            [
             0.2222222222222222,
             "#7201a8"
            ],
            [
             0.3333333333333333,
             "#9c179e"
            ],
            [
             0.4444444444444444,
             "#bd3786"
            ],
            [
             0.5555555555555556,
             "#d8576b"
            ],
            [
             0.6666666666666666,
             "#ed7953"
            ],
            [
             0.7777777777777778,
             "#fb9f3a"
            ],
            [
             0.8888888888888888,
             "#fdca26"
            ],
            [
             1,
             "#f0f921"
            ]
           ],
           "sequentialminus": [
            [
             0,
             "#0d0887"
            ],
            [
             0.1111111111111111,
             "#46039f"
            ],
            [
             0.2222222222222222,
             "#7201a8"
            ],
            [
             0.3333333333333333,
             "#9c179e"
            ],
            [
             0.4444444444444444,
             "#bd3786"
            ],
            [
             0.5555555555555556,
             "#d8576b"
            ],
            [
             0.6666666666666666,
             "#ed7953"
            ],
            [
             0.7777777777777778,
             "#fb9f3a"
            ],
            [
             0.8888888888888888,
             "#fdca26"
            ],
            [
             1,
             "#f0f921"
            ]
           ]
          },
          "colorway": [
           "#636efa",
           "#EF553B",
           "#00cc96",
           "#ab63fa",
           "#FFA15A",
           "#19d3f3",
           "#FF6692",
           "#B6E880",
           "#FF97FF",
           "#FECB52"
          ],
          "font": {
           "color": "#2a3f5f"
          },
          "geo": {
           "bgcolor": "white",
           "lakecolor": "white",
           "landcolor": "#E5ECF6",
           "showlakes": true,
           "showland": true,
           "subunitcolor": "white"
          },
          "hoverlabel": {
           "align": "left"
          },
          "hovermode": "closest",
          "mapbox": {
           "style": "light"
          },
          "paper_bgcolor": "white",
          "plot_bgcolor": "#E5ECF6",
          "polar": {
           "angularaxis": {
            "gridcolor": "white",
            "linecolor": "white",
            "ticks": ""
           },
           "bgcolor": "#E5ECF6",
           "radialaxis": {
            "gridcolor": "white",
            "linecolor": "white",
            "ticks": ""
           }
          },
          "scene": {
           "xaxis": {
            "backgroundcolor": "#E5ECF6",
            "gridcolor": "white",
            "gridwidth": 2,
            "linecolor": "white",
            "showbackground": true,
            "ticks": "",
            "zerolinecolor": "white"
           },
           "yaxis": {
            "backgroundcolor": "#E5ECF6",
            "gridcolor": "white",
            "gridwidth": 2,
            "linecolor": "white",
            "showbackground": true,
            "ticks": "",
            "zerolinecolor": "white"
           },
           "zaxis": {
            "backgroundcolor": "#E5ECF6",
            "gridcolor": "white",
            "gridwidth": 2,
            "linecolor": "white",
            "showbackground": true,
            "ticks": "",
            "zerolinecolor": "white"
           }
          },
          "shapedefaults": {
           "line": {
            "color": "#2a3f5f"
           }
          },
          "ternary": {
           "aaxis": {
            "gridcolor": "white",
            "linecolor": "white",
            "ticks": ""
           },
           "baxis": {
            "gridcolor": "white",
            "linecolor": "white",
            "ticks": ""
           },
           "bgcolor": "#E5ECF6",
           "caxis": {
            "gridcolor": "white",
            "linecolor": "white",
            "ticks": ""
           }
          },
          "title": {
           "x": 0.05
          },
          "xaxis": {
           "automargin": true,
           "gridcolor": "white",
           "linecolor": "white",
           "ticks": "",
           "title": {
            "standoff": 15
           },
           "zerolinecolor": "white",
           "zerolinewidth": 2
          },
          "yaxis": {
           "automargin": true,
           "gridcolor": "white",
           "linecolor": "white",
           "ticks": "",
           "title": {
            "standoff": 15
           },
           "zerolinecolor": "white",
           "zerolinewidth": 2
          }
         }
        },
        "title": {
         "text": "Vacucacion por grupo etario"
        },
        "xaxis": {
         "anchor": "y",
         "domain": [
          0,
          1
         ],
         "title": {
          "text": "grupo_etario"
         }
        },
        "yaxis": {
         "anchor": "x",
         "domain": [
          0,
          1
         ],
         "title": {
          "text": "value"
         }
        }
       }
      },
      "text/html": [
       "<div>                            <div id=\"d4c752af-c238-46ce-be71-ba2934d3fbb3\" class=\"plotly-graph-div\" style=\"height:525px; width:100%;\"></div>            <script type=\"text/javascript\">                require([\"plotly\"], function(Plotly) {                    window.PLOTLYENV=window.PLOTLYENV || {};                                    if (document.getElementById(\"d4c752af-c238-46ce-be71-ba2934d3fbb3\")) {                    Plotly.newPlot(                        \"d4c752af-c238-46ce-be71-ba2934d3fbb3\",                        [{\"alignmentgroup\": \"True\", \"hovertemplate\": \"variable=ambas_dosis<br>grupo_etario=%{x}<br>value=%{y}<extra></extra>\", \"legendgroup\": \"ambas_dosis\", \"marker\": {\"color\": \"#636efa\"}, \"name\": \"ambas_dosis\", \"offsetgroup\": \"ambas_dosis\", \"orientation\": \"v\", \"showlegend\": true, \"textposition\": \"auto\", \"type\": \"bar\", \"x\": [\"[60,65>\", \"[65,70>\", \"[70,75>\", \"[75,80>\", \"[80,Mas>\"], \"xaxis\": \"x\", \"y\": [32615, 26060, 28286, 30853, 172984], \"yaxis\": \"y\"}, {\"alignmentgroup\": \"True\", \"hovertemplate\": \"variable=solo_dosis_1<br>grupo_etario=%{x}<br>value=%{y}<extra></extra>\", \"legendgroup\": \"solo_dosis_1\", \"marker\": {\"color\": \"#EF553B\"}, \"name\": \"solo_dosis_1\", \"offsetgroup\": \"solo_dosis_1\", \"orientation\": \"v\", \"showlegend\": true, \"textposition\": \"auto\", \"type\": \"bar\", \"x\": [\"[60,65>\", \"[65,70>\", \"[70,75>\", \"[75,80>\", \"[80,Mas>\"], \"xaxis\": \"x\", \"y\": [51568, 148482, 411018, 281692, 212288], \"yaxis\": \"y\"}, {\"alignmentgroup\": \"True\", \"hovertemplate\": \"variable=ninguna_dosis<br>grupo_etario=%{x}<br>value=%{y}<extra></extra>\", \"legendgroup\": \"ninguna_dosis\", \"marker\": {\"color\": \"#00cc96\"}, \"name\": \"ninguna_dosis\", \"offsetgroup\": \"ninguna_dosis\", \"orientation\": \"v\", \"showlegend\": true, \"textposition\": \"auto\", \"type\": \"bar\", \"x\": [\"[60,65>\", \"[65,70>\", \"[70,75>\", \"[75,80>\", \"[80,Mas>\"], \"xaxis\": \"x\", \"y\": [1114103, 798928, 249535, 188630, 180035], \"yaxis\": \"y\"}],                        {\"barmode\": \"relative\", \"legend\": {\"title\": {\"text\": \"variable\"}, \"tracegroupgap\": 0}, \"template\": {\"data\": {\"bar\": [{\"error_x\": {\"color\": \"#2a3f5f\"}, \"error_y\": {\"color\": \"#2a3f5f\"}, \"marker\": {\"line\": {\"color\": \"#E5ECF6\", \"width\": 0.5}}, \"type\": \"bar\"}], \"barpolar\": [{\"marker\": {\"line\": {\"color\": \"#E5ECF6\", \"width\": 0.5}}, \"type\": \"barpolar\"}], \"carpet\": [{\"aaxis\": {\"endlinecolor\": \"#2a3f5f\", \"gridcolor\": \"white\", \"linecolor\": \"white\", \"minorgridcolor\": \"white\", \"startlinecolor\": \"#2a3f5f\"}, \"baxis\": {\"endlinecolor\": \"#2a3f5f\", \"gridcolor\": \"white\", \"linecolor\": \"white\", \"minorgridcolor\": \"white\", \"startlinecolor\": \"#2a3f5f\"}, \"type\": \"carpet\"}], \"choropleth\": [{\"colorbar\": {\"outlinewidth\": 0, \"ticks\": \"\"}, \"type\": \"choropleth\"}], \"contour\": [{\"colorbar\": {\"outlinewidth\": 0, \"ticks\": \"\"}, \"colorscale\": [[0.0, \"#0d0887\"], [0.1111111111111111, \"#46039f\"], [0.2222222222222222, \"#7201a8\"], [0.3333333333333333, \"#9c179e\"], [0.4444444444444444, \"#bd3786\"], [0.5555555555555556, \"#d8576b\"], [0.6666666666666666, \"#ed7953\"], [0.7777777777777778, \"#fb9f3a\"], [0.8888888888888888, \"#fdca26\"], [1.0, \"#f0f921\"]], \"type\": \"contour\"}], \"contourcarpet\": [{\"colorbar\": {\"outlinewidth\": 0, \"ticks\": \"\"}, \"type\": \"contourcarpet\"}], \"heatmap\": [{\"colorbar\": {\"outlinewidth\": 0, \"ticks\": \"\"}, \"colorscale\": [[0.0, \"#0d0887\"], [0.1111111111111111, \"#46039f\"], [0.2222222222222222, \"#7201a8\"], [0.3333333333333333, \"#9c179e\"], [0.4444444444444444, \"#bd3786\"], [0.5555555555555556, \"#d8576b\"], [0.6666666666666666, \"#ed7953\"], [0.7777777777777778, \"#fb9f3a\"], [0.8888888888888888, \"#fdca26\"], [1.0, \"#f0f921\"]], \"type\": \"heatmap\"}], \"heatmapgl\": [{\"colorbar\": {\"outlinewidth\": 0, \"ticks\": \"\"}, \"colorscale\": [[0.0, \"#0d0887\"], [0.1111111111111111, \"#46039f\"], [0.2222222222222222, \"#7201a8\"], [0.3333333333333333, \"#9c179e\"], [0.4444444444444444, \"#bd3786\"], [0.5555555555555556, \"#d8576b\"], [0.6666666666666666, \"#ed7953\"], [0.7777777777777778, \"#fb9f3a\"], [0.8888888888888888, \"#fdca26\"], [1.0, \"#f0f921\"]], \"type\": \"heatmapgl\"}], \"histogram\": [{\"marker\": {\"colorbar\": {\"outlinewidth\": 0, \"ticks\": \"\"}}, \"type\": \"histogram\"}], \"histogram2d\": [{\"colorbar\": {\"outlinewidth\": 0, \"ticks\": \"\"}, \"colorscale\": [[0.0, \"#0d0887\"], [0.1111111111111111, \"#46039f\"], [0.2222222222222222, \"#7201a8\"], [0.3333333333333333, \"#9c179e\"], [0.4444444444444444, \"#bd3786\"], [0.5555555555555556, \"#d8576b\"], [0.6666666666666666, \"#ed7953\"], [0.7777777777777778, \"#fb9f3a\"], [0.8888888888888888, \"#fdca26\"], [1.0, \"#f0f921\"]], \"type\": \"histogram2d\"}], \"histogram2dcontour\": [{\"colorbar\": {\"outlinewidth\": 0, \"ticks\": \"\"}, \"colorscale\": [[0.0, \"#0d0887\"], [0.1111111111111111, \"#46039f\"], [0.2222222222222222, \"#7201a8\"], [0.3333333333333333, \"#9c179e\"], [0.4444444444444444, \"#bd3786\"], [0.5555555555555556, \"#d8576b\"], [0.6666666666666666, \"#ed7953\"], [0.7777777777777778, \"#fb9f3a\"], [0.8888888888888888, \"#fdca26\"], [1.0, \"#f0f921\"]], \"type\": \"histogram2dcontour\"}], \"mesh3d\": [{\"colorbar\": {\"outlinewidth\": 0, \"ticks\": \"\"}, \"type\": \"mesh3d\"}], \"parcoords\": [{\"line\": {\"colorbar\": {\"outlinewidth\": 0, \"ticks\": \"\"}}, \"type\": \"parcoords\"}], \"pie\": [{\"automargin\": true, \"type\": \"pie\"}], \"scatter\": [{\"marker\": {\"colorbar\": {\"outlinewidth\": 0, \"ticks\": \"\"}}, \"type\": \"scatter\"}], \"scatter3d\": [{\"line\": {\"colorbar\": {\"outlinewidth\": 0, \"ticks\": \"\"}}, \"marker\": {\"colorbar\": {\"outlinewidth\": 0, \"ticks\": \"\"}}, \"type\": \"scatter3d\"}], \"scattercarpet\": [{\"marker\": {\"colorbar\": {\"outlinewidth\": 0, \"ticks\": \"\"}}, \"type\": \"scattercarpet\"}], \"scattergeo\": [{\"marker\": {\"colorbar\": {\"outlinewidth\": 0, \"ticks\": \"\"}}, \"type\": \"scattergeo\"}], \"scattergl\": [{\"marker\": {\"colorbar\": {\"outlinewidth\": 0, \"ticks\": \"\"}}, \"type\": \"scattergl\"}], \"scattermapbox\": [{\"marker\": {\"colorbar\": {\"outlinewidth\": 0, \"ticks\": \"\"}}, \"type\": \"scattermapbox\"}], \"scatterpolar\": [{\"marker\": {\"colorbar\": {\"outlinewidth\": 0, \"ticks\": \"\"}}, \"type\": \"scatterpolar\"}], \"scatterpolargl\": [{\"marker\": {\"colorbar\": {\"outlinewidth\": 0, \"ticks\": \"\"}}, \"type\": \"scatterpolargl\"}], \"scatterternary\": [{\"marker\": {\"colorbar\": {\"outlinewidth\": 0, \"ticks\": \"\"}}, \"type\": \"scatterternary\"}], \"surface\": [{\"colorbar\": {\"outlinewidth\": 0, \"ticks\": \"\"}, \"colorscale\": [[0.0, \"#0d0887\"], [0.1111111111111111, \"#46039f\"], [0.2222222222222222, \"#7201a8\"], [0.3333333333333333, \"#9c179e\"], [0.4444444444444444, \"#bd3786\"], [0.5555555555555556, \"#d8576b\"], [0.6666666666666666, \"#ed7953\"], [0.7777777777777778, \"#fb9f3a\"], [0.8888888888888888, \"#fdca26\"], [1.0, \"#f0f921\"]], \"type\": \"surface\"}], \"table\": [{\"cells\": {\"fill\": {\"color\": \"#EBF0F8\"}, \"line\": {\"color\": \"white\"}}, \"header\": {\"fill\": {\"color\": \"#C8D4E3\"}, \"line\": {\"color\": \"white\"}}, \"type\": \"table\"}]}, \"layout\": {\"annotationdefaults\": {\"arrowcolor\": \"#2a3f5f\", \"arrowhead\": 0, \"arrowwidth\": 1}, \"autotypenumbers\": \"strict\", \"coloraxis\": {\"colorbar\": {\"outlinewidth\": 0, \"ticks\": \"\"}}, \"colorscale\": {\"diverging\": [[0, \"#8e0152\"], [0.1, \"#c51b7d\"], [0.2, \"#de77ae\"], [0.3, \"#f1b6da\"], [0.4, \"#fde0ef\"], [0.5, \"#f7f7f7\"], [0.6, \"#e6f5d0\"], [0.7, \"#b8e186\"], [0.8, \"#7fbc41\"], [0.9, \"#4d9221\"], [1, \"#276419\"]], \"sequential\": [[0.0, \"#0d0887\"], [0.1111111111111111, \"#46039f\"], [0.2222222222222222, \"#7201a8\"], [0.3333333333333333, \"#9c179e\"], [0.4444444444444444, \"#bd3786\"], [0.5555555555555556, \"#d8576b\"], [0.6666666666666666, \"#ed7953\"], [0.7777777777777778, \"#fb9f3a\"], [0.8888888888888888, \"#fdca26\"], [1.0, \"#f0f921\"]], \"sequentialminus\": [[0.0, \"#0d0887\"], [0.1111111111111111, \"#46039f\"], [0.2222222222222222, \"#7201a8\"], [0.3333333333333333, \"#9c179e\"], [0.4444444444444444, \"#bd3786\"], [0.5555555555555556, \"#d8576b\"], [0.6666666666666666, \"#ed7953\"], [0.7777777777777778, \"#fb9f3a\"], [0.8888888888888888, \"#fdca26\"], [1.0, \"#f0f921\"]]}, \"colorway\": [\"#636efa\", \"#EF553B\", \"#00cc96\", \"#ab63fa\", \"#FFA15A\", \"#19d3f3\", \"#FF6692\", \"#B6E880\", \"#FF97FF\", \"#FECB52\"], \"font\": {\"color\": \"#2a3f5f\"}, \"geo\": {\"bgcolor\": \"white\", \"lakecolor\": \"white\", \"landcolor\": \"#E5ECF6\", \"showlakes\": true, \"showland\": true, \"subunitcolor\": \"white\"}, \"hoverlabel\": {\"align\": \"left\"}, \"hovermode\": \"closest\", \"mapbox\": {\"style\": \"light\"}, \"paper_bgcolor\": \"white\", \"plot_bgcolor\": \"#E5ECF6\", \"polar\": {\"angularaxis\": {\"gridcolor\": \"white\", \"linecolor\": \"white\", \"ticks\": \"\"}, \"bgcolor\": \"#E5ECF6\", \"radialaxis\": {\"gridcolor\": \"white\", \"linecolor\": \"white\", \"ticks\": \"\"}}, \"scene\": {\"xaxis\": {\"backgroundcolor\": \"#E5ECF6\", \"gridcolor\": \"white\", \"gridwidth\": 2, \"linecolor\": \"white\", \"showbackground\": true, \"ticks\": \"\", \"zerolinecolor\": \"white\"}, \"yaxis\": {\"backgroundcolor\": \"#E5ECF6\", \"gridcolor\": \"white\", \"gridwidth\": 2, \"linecolor\": \"white\", \"showbackground\": true, \"ticks\": \"\", \"zerolinecolor\": \"white\"}, \"zaxis\": {\"backgroundcolor\": \"#E5ECF6\", \"gridcolor\": \"white\", \"gridwidth\": 2, \"linecolor\": \"white\", \"showbackground\": true, \"ticks\": \"\", \"zerolinecolor\": \"white\"}}, \"shapedefaults\": {\"line\": {\"color\": \"#2a3f5f\"}}, \"ternary\": {\"aaxis\": {\"gridcolor\": \"white\", \"linecolor\": \"white\", \"ticks\": \"\"}, \"baxis\": {\"gridcolor\": \"white\", \"linecolor\": \"white\", \"ticks\": \"\"}, \"bgcolor\": \"#E5ECF6\", \"caxis\": {\"gridcolor\": \"white\", \"linecolor\": \"white\", \"ticks\": \"\"}}, \"title\": {\"x\": 0.05}, \"xaxis\": {\"automargin\": true, \"gridcolor\": \"white\", \"linecolor\": \"white\", \"ticks\": \"\", \"title\": {\"standoff\": 15}, \"zerolinecolor\": \"white\", \"zerolinewidth\": 2}, \"yaxis\": {\"automargin\": true, \"gridcolor\": \"white\", \"linecolor\": \"white\", \"ticks\": \"\", \"title\": {\"standoff\": 15}, \"zerolinecolor\": \"white\", \"zerolinewidth\": 2}}}, \"title\": {\"text\": \"Vacucacion por grupo etario\"}, \"xaxis\": {\"anchor\": \"y\", \"domain\": [0.0, 1.0], \"title\": {\"text\": \"grupo_etario\"}}, \"yaxis\": {\"anchor\": \"x\", \"domain\": [0.0, 1.0], \"title\": {\"text\": \"value\"}}},                        {\"responsive\": true}                    ).then(function(){\n",
       "                            \n",
       "var gd = document.getElementById('d4c752af-c238-46ce-be71-ba2934d3fbb3');\n",
       "var x = new MutationObserver(function (mutations, observer) {{\n",
       "        var display = window.getComputedStyle(gd).display;\n",
       "        if (!display || display === 'none') {{\n",
       "            console.log([gd, 'removed!']);\n",
       "            Plotly.purge(gd);\n",
       "            observer.disconnect();\n",
       "        }}\n",
       "}});\n",
       "\n",
       "// Listen for the removal of the full notebook cells\n",
       "var notebookContainer = gd.closest('#notebook-container');\n",
       "if (notebookContainer) {{\n",
       "    x.observe(notebookContainer, {childList: true});\n",
       "}}\n",
       "\n",
       "// Listen for the clearing of the current output cell\n",
       "var outputEl = gd.closest('.output');\n",
       "if (outputEl) {{\n",
       "    x.observe(outputEl, {childList: true});\n",
       "}}\n",
       "\n",
       "                        })                };                });            </script>        </div>"
      ]
     },
     "metadata": {},
     "output_type": "display_data"
    }
   ],
   "source": [
    "fig = px.bar(poblacion_etario_3, x=\"grupo_etario\", y=[\"ambas_dosis\", \"solo_dosis_1\", \"ninguna_dosis\"], title=\"Vacucacion por grupo etario\")\n",
    "fig.show()"
   ]
  },
  {
   "cell_type": "code",
   "execution_count": null,
   "metadata": {},
   "outputs": [],
   "source": []
  }
 ],
 "metadata": {
  "kernelspec": {
   "display_name": "Python [conda env:geopandas]",
   "language": "python",
   "name": "conda-env-geopandas-py"
  },
  "language_info": {
   "codemirror_mode": {
    "name": "ipython",
    "version": 3
   },
   "file_extension": ".py",
   "mimetype": "text/x-python",
   "name": "python",
   "nbconvert_exporter": "python",
   "pygments_lexer": "ipython3",
   "version": "3.9.4"
  }
 },
 "nbformat": 4,
 "nbformat_minor": 4
}
